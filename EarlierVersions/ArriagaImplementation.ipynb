{
 "cells": [
  {
   "cell_type": "code",
   "execution_count": 1,
   "metadata": {},
   "outputs": [
    {
     "data": {
      "text/plain": [
       "'\\nFile: train_emotion_classifier.py\\nAuthor: Octavio Arriaga\\nEmail: arriaga.camargo@gmail.com\\nGithub: https://github.com/oarriaga\\nDescription: Train emotion classification model\\n'"
      ]
     },
     "execution_count": 1,
     "metadata": {},
     "output_type": "execute_result"
    }
   ],
   "source": [
    "\"\"\"\n",
    "File: train_emotion_classifier.py\n",
    "Author: Octavio Arriaga\n",
    "Email: arriaga.camargo@gmail.com\n",
    "Github: https://github.com/oarriaga\n",
    "Description: Train emotion classification model\n",
    "\"\"\""
   ]
  },
  {
   "cell_type": "code",
   "execution_count": 2,
   "metadata": {},
   "outputs": [],
   "source": [
    "# !pip3 install Pillow==2.6.0"
   ]
  },
  {
   "cell_type": "code",
   "execution_count": 1,
   "metadata": {},
   "outputs": [
    {
     "name": "stderr",
     "output_type": "stream",
     "text": [
      "Using TensorFlow backend.\n"
     ]
    }
   ],
   "source": [
    "from keras.callbacks import CSVLogger, ModelCheckpoint, EarlyStopping\n",
    "from keras.callbacks import ReduceLROnPlateau\n",
    "from keras.preprocessing.image import ImageDataGenerator\n",
    "\n",
    "from cnn import mini_XCEPTION\n",
    "from utils.datasets import DataManager\n",
    "from utils.datasets import split_data\n",
    "from utils.preprocessor import preprocess_input\n",
    "import matplotlib.pyplot as plt\n",
    "%matplotlib inline"
   ]
  },
  {
   "cell_type": "code",
   "execution_count": 4,
   "metadata": {},
   "outputs": [
    {
     "data": {
      "text/plain": [
       "['/job:localhost/replica:0/task:0/device:GPU:0']"
      ]
     },
     "execution_count": 4,
     "metadata": {},
     "output_type": "execute_result"
    }
   ],
   "source": [
    "import tensorflow as tf\n",
    "from keras import backend\n",
    "backend.tensorflow_backend._get_available_gpus()"
   ]
  },
  {
   "cell_type": "code",
   "execution_count": 5,
   "metadata": {},
   "outputs": [],
   "source": [
    "# parameters\n",
    "batch_size = 32\n",
    "num_epochs = 10000\n",
    "input_shape = (64, 64, 1)\n",
    "validation_split = .2\n",
    "verbose = 1\n",
    "num_classes = 7\n",
    "patience = 50\n",
    "base_path = '/data/emotion_models/'"
   ]
  },
  {
   "cell_type": "code",
   "execution_count": 6,
   "metadata": {},
   "outputs": [
    {
     "name": "stdout",
     "output_type": "stream",
     "text": [
      "WARNING:tensorflow:From /usr/local/lib/python3.5/dist-packages/tensorflow/python/framework/op_def_library.py:263: colocate_with (from tensorflow.python.framework.ops) is deprecated and will be removed in a future version.\n",
      "Instructions for updating:\n",
      "Colocations handled automatically by placer.\n",
      "__________________________________________________________________________________________________\n",
      "Layer (type)                    Output Shape         Param #     Connected to                     \n",
      "==================================================================================================\n",
      "input_1 (InputLayer)            (None, 64, 64, 1)    0                                            \n",
      "__________________________________________________________________________________________________\n",
      "conv2d_1 (Conv2D)               (None, 62, 62, 8)    72          input_1[0][0]                    \n",
      "__________________________________________________________________________________________________\n",
      "batch_normalization_1 (BatchNor (None, 62, 62, 8)    32          conv2d_1[0][0]                   \n",
      "__________________________________________________________________________________________________\n",
      "activation_1 (Activation)       (None, 62, 62, 8)    0           batch_normalization_1[0][0]      \n",
      "__________________________________________________________________________________________________\n",
      "conv2d_2 (Conv2D)               (None, 60, 60, 8)    576         activation_1[0][0]               \n",
      "__________________________________________________________________________________________________\n",
      "batch_normalization_2 (BatchNor (None, 60, 60, 8)    32          conv2d_2[0][0]                   \n",
      "__________________________________________________________________________________________________\n",
      "activation_2 (Activation)       (None, 60, 60, 8)    0           batch_normalization_2[0][0]      \n",
      "__________________________________________________________________________________________________\n",
      "separable_conv2d_1 (SeparableCo (None, 60, 60, 16)   200         activation_2[0][0]               \n",
      "__________________________________________________________________________________________________\n",
      "batch_normalization_4 (BatchNor (None, 60, 60, 16)   64          separable_conv2d_1[0][0]         \n",
      "__________________________________________________________________________________________________\n",
      "activation_3 (Activation)       (None, 60, 60, 16)   0           batch_normalization_4[0][0]      \n",
      "__________________________________________________________________________________________________\n",
      "separable_conv2d_2 (SeparableCo (None, 60, 60, 16)   400         activation_3[0][0]               \n",
      "__________________________________________________________________________________________________\n",
      "batch_normalization_5 (BatchNor (None, 60, 60, 16)   64          separable_conv2d_2[0][0]         \n",
      "__________________________________________________________________________________________________\n",
      "conv2d_3 (Conv2D)               (None, 30, 30, 16)   128         activation_2[0][0]               \n",
      "__________________________________________________________________________________________________\n",
      "max_pooling2d_1 (MaxPooling2D)  (None, 30, 30, 16)   0           batch_normalization_5[0][0]      \n",
      "__________________________________________________________________________________________________\n",
      "batch_normalization_3 (BatchNor (None, 30, 30, 16)   64          conv2d_3[0][0]                   \n",
      "__________________________________________________________________________________________________\n",
      "add_1 (Add)                     (None, 30, 30, 16)   0           max_pooling2d_1[0][0]            \n",
      "                                                                 batch_normalization_3[0][0]      \n",
      "__________________________________________________________________________________________________\n",
      "separable_conv2d_3 (SeparableCo (None, 30, 30, 32)   656         add_1[0][0]                      \n",
      "__________________________________________________________________________________________________\n",
      "batch_normalization_7 (BatchNor (None, 30, 30, 32)   128         separable_conv2d_3[0][0]         \n",
      "__________________________________________________________________________________________________\n",
      "activation_4 (Activation)       (None, 30, 30, 32)   0           batch_normalization_7[0][0]      \n",
      "__________________________________________________________________________________________________\n",
      "separable_conv2d_4 (SeparableCo (None, 30, 30, 32)   1312        activation_4[0][0]               \n",
      "__________________________________________________________________________________________________\n",
      "batch_normalization_8 (BatchNor (None, 30, 30, 32)   128         separable_conv2d_4[0][0]         \n",
      "__________________________________________________________________________________________________\n",
      "conv2d_4 (Conv2D)               (None, 15, 15, 32)   512         add_1[0][0]                      \n",
      "__________________________________________________________________________________________________\n",
      "max_pooling2d_2 (MaxPooling2D)  (None, 15, 15, 32)   0           batch_normalization_8[0][0]      \n",
      "__________________________________________________________________________________________________\n",
      "batch_normalization_6 (BatchNor (None, 15, 15, 32)   128         conv2d_4[0][0]                   \n",
      "__________________________________________________________________________________________________\n",
      "add_2 (Add)                     (None, 15, 15, 32)   0           max_pooling2d_2[0][0]            \n",
      "                                                                 batch_normalization_6[0][0]      \n",
      "__________________________________________________________________________________________________\n",
      "separable_conv2d_5 (SeparableCo (None, 15, 15, 64)   2336        add_2[0][0]                      \n",
      "__________________________________________________________________________________________________\n",
      "batch_normalization_10 (BatchNo (None, 15, 15, 64)   256         separable_conv2d_5[0][0]         \n",
      "__________________________________________________________________________________________________\n",
      "activation_5 (Activation)       (None, 15, 15, 64)   0           batch_normalization_10[0][0]     \n",
      "__________________________________________________________________________________________________\n",
      "separable_conv2d_6 (SeparableCo (None, 15, 15, 64)   4672        activation_5[0][0]               \n",
      "__________________________________________________________________________________________________\n",
      "batch_normalization_11 (BatchNo (None, 15, 15, 64)   256         separable_conv2d_6[0][0]         \n",
      "__________________________________________________________________________________________________\n",
      "conv2d_5 (Conv2D)               (None, 8, 8, 64)     2048        add_2[0][0]                      \n",
      "__________________________________________________________________________________________________\n",
      "max_pooling2d_3 (MaxPooling2D)  (None, 8, 8, 64)     0           batch_normalization_11[0][0]     \n",
      "__________________________________________________________________________________________________\n",
      "batch_normalization_9 (BatchNor (None, 8, 8, 64)     256         conv2d_5[0][0]                   \n",
      "__________________________________________________________________________________________________\n",
      "add_3 (Add)                     (None, 8, 8, 64)     0           max_pooling2d_3[0][0]            \n",
      "                                                                 batch_normalization_9[0][0]      \n",
      "__________________________________________________________________________________________________\n",
      "separable_conv2d_7 (SeparableCo (None, 8, 8, 128)    8768        add_3[0][0]                      \n",
      "__________________________________________________________________________________________________\n",
      "batch_normalization_13 (BatchNo (None, 8, 8, 128)    512         separable_conv2d_7[0][0]         \n",
      "__________________________________________________________________________________________________\n",
      "activation_6 (Activation)       (None, 8, 8, 128)    0           batch_normalization_13[0][0]     \n",
      "__________________________________________________________________________________________________\n",
      "separable_conv2d_8 (SeparableCo (None, 8, 8, 128)    17536       activation_6[0][0]               \n",
      "__________________________________________________________________________________________________\n",
      "batch_normalization_14 (BatchNo (None, 8, 8, 128)    512         separable_conv2d_8[0][0]         \n",
      "__________________________________________________________________________________________________\n",
      "conv2d_6 (Conv2D)               (None, 4, 4, 128)    8192        add_3[0][0]                      \n",
      "__________________________________________________________________________________________________\n",
      "max_pooling2d_4 (MaxPooling2D)  (None, 4, 4, 128)    0           batch_normalization_14[0][0]     \n",
      "__________________________________________________________________________________________________\n",
      "batch_normalization_12 (BatchNo (None, 4, 4, 128)    512         conv2d_6[0][0]                   \n",
      "__________________________________________________________________________________________________\n",
      "add_4 (Add)                     (None, 4, 4, 128)    0           max_pooling2d_4[0][0]            \n",
      "                                                                 batch_normalization_12[0][0]     \n",
      "__________________________________________________________________________________________________\n",
      "conv2d_7 (Conv2D)               (None, 4, 4, 7)      8071        add_4[0][0]                      \n",
      "__________________________________________________________________________________________________\n",
      "global_average_pooling2d_1 (Glo (None, 7)            0           conv2d_7[0][0]                   \n",
      "__________________________________________________________________________________________________\n",
      "predictions (Activation)        (None, 7)            0           global_average_pooling2d_1[0][0] \n",
      "==================================================================================================\n",
      "Total params: 58,423\n",
      "Trainable params: 56,951\n",
      "Non-trainable params: 1,472\n",
      "__________________________________________________________________________________________________\n"
     ]
    }
   ],
   "source": [
    "# data generator\n",
    "\n",
    "# model parameters/compilation\n",
    "model = mini_XCEPTION(input_shape, num_classes)\n",
    "model.compile(optimizer='adam', loss='categorical_crossentropy',\n",
    "              metrics=['accuracy'])\n",
    "model.summary()"
   ]
  },
  {
   "cell_type": "code",
   "execution_count": 7,
   "metadata": {},
   "outputs": [],
   "source": [
    "dataset_name = 'fer2013'"
   ]
  },
  {
   "cell_type": "code",
   "execution_count": 8,
   "metadata": {},
   "outputs": [],
   "source": [
    "log_file_path = base_path + dataset_name + '_emotion_training.log'\n",
    "csv_logger = CSVLogger(log_file_path, append=False)\n",
    "early_stop = EarlyStopping('val_loss', patience=patience)\n",
    "reduce_lr = ReduceLROnPlateau('val_loss', factor=0.1,\n",
    "                              patience=int(patience/4), verbose=1)\n",
    "trained_models_path = base_path + dataset_name + '_mini_XCEPTION'\n",
    "model_names = trained_models_path + '.{epoch:02d}-{val_acc:.2f}.hdf5'\n",
    "model_checkpoint = ModelCheckpoint(model_names, 'val_loss', verbose=1,\n",
    "                                                save_best_only=True)\n",
    "callbacks = [model_checkpoint, csv_logger, early_stop, reduce_lr]"
   ]
  },
  {
   "cell_type": "code",
   "execution_count": 7,
   "metadata": {},
   "outputs": [],
   "source": [
    "# train_data_dir = \"/root/finalproject/tensorflow-for-poets-2/tf_files/Training\""
   ]
  },
  {
   "cell_type": "code",
   "execution_count": 9,
   "metadata": {},
   "outputs": [],
   "source": [
    "train_data_dir = \"/data/Training\""
   ]
  },
  {
   "cell_type": "code",
   "execution_count": 10,
   "metadata": {},
   "outputs": [],
   "source": [
    "IM_WIDTH, IM_HEIGHT = 64, 64 #fixed size for InceptionV3\n",
    "NB_EPOCHS = 10000\n",
    "BAT_SIZE = 32\n",
    "FC_SIZE = 1024\n",
    "NB_IV3_LAYERS_TO_FREEZE = 172\n",
    "\n"
   ]
  },
  {
   "cell_type": "code",
   "execution_count": 11,
   "metadata": {},
   "outputs": [
    {
     "name": "stdout",
     "output_type": "stream",
     "text": [
      "Found 22968 images belonging to 7 classes.\n",
      "Found 5740 images belonging to 7 classes.\n"
     ]
    }
   ],
   "source": [
    "\n",
    "data_generator = ImageDataGenerator(\n",
    "                        preprocessing_function=preprocess_input,\n",
    "                        featurewise_center=False,\n",
    "                        featurewise_std_normalization=False,\n",
    "                        rotation_range=10,\n",
    "                        width_shift_range=0.1,\n",
    "                        height_shift_range=0.1,\n",
    "                        zoom_range=.1,\n",
    "                        horizontal_flip=True,\n",
    "                        validation_split=0.2)\n",
    "    \n",
    "train_generator = data_generator.flow_from_directory(\n",
    "train_data_dir,\n",
    "target_size=(IM_WIDTH, IM_HEIGHT),\n",
    "batch_size=BAT_SIZE,\n",
    "subset='training',\n",
    "color_mode=\"grayscale\")\n",
    "\n",
    "validation_generator = data_generator.flow_from_directory(\n",
    "    train_data_dir, # same directory as training data\n",
    "    target_size=(IM_WIDTH, IM_HEIGHT),\n",
    "    batch_size=BAT_SIZE,\n",
    "    subset='validation',\n",
    "color_mode=\"grayscale\")\n"
   ]
  },
  {
   "cell_type": "code",
   "execution_count": 12,
   "metadata": {},
   "outputs": [
    {
     "name": "stdout",
     "output_type": "stream",
     "text": [
      "(32, 64, 64, 1)\n",
      "(64, 64, 1)\n"
     ]
    },
    {
     "data": {
      "image/png": "[encoded data removed]",
      "text/plain": [
       "<Figure size 432x288 with 1 Axes>"
      ]
     },
     "metadata": {
      "needs_background": "light"
     },
     "output_type": "display_data"
    }
   ],
   "source": [
    "x,y = train_generator.next()\n",
    "# for i in range(0,1):\n",
    "#     image = x[i]\n",
    "#     plt.imshow(image.transpose(2,1,0))\n",
    "#     plt.show()\n",
    "print(x.shape)\n",
    "image = x[2]\n",
    "print(image.shape)\n",
    "plt.imshow(image.reshape(IM_WIDTH, IM_HEIGHT))\n",
    "plt.show()"
   ]
  },
  {
   "cell_type": "code",
   "execution_count": null,
   "metadata": {},
   "outputs": [
    {
     "name": "stdout",
     "output_type": "stream",
     "text": [
      "WARNING:tensorflow:From /usr/local/lib/python3.5/dist-packages/tensorflow/python/ops/math_ops.py:3066: to_int32 (from tensorflow.python.ops.math_ops) is deprecated and will be removed in a future version.\n",
      "Instructions for updating:\n",
      "Use tf.cast instead.\n",
      "Epoch 1/10000\n",
      "717/717 [==============================] - 54s 76ms/step - loss: 1.7965 - acc: 0.3192 - val_loss: 1.7187 - val_acc: 0.3521\n",
      "\n",
      "Epoch 00001: val_loss improved from inf to 1.71872, saving model to /data/emotion_models/fer2013_mini_XCEPTION.01-0.35.hdf5\n",
      "Epoch 2/10000\n",
      "717/717 [==============================] - 42s 58ms/step - loss: 1.5443 - acc: 0.4189 - val_loss: 1.5243 - val_acc: 0.4289\n",
      "\n",
      "Epoch 00002: val_loss improved from 1.71872 to 1.52432, saving model to /data/emotion_models/fer2013_mini_XCEPTION.02-0.43.hdf5\n",
      "Epoch 3/10000\n",
      "717/717 [==============================] - 42s 59ms/step - loss: 1.4447 - acc: 0.4547 - val_loss: 1.7418 - val_acc: 0.3775\n",
      "\n",
      "Epoch 00003: val_loss did not improve from 1.52432\n",
      "Epoch 4/10000\n",
      "717/717 [==============================] - 43s 59ms/step - loss: 1.3654 - acc: 0.4875 - val_loss: 1.4513 - val_acc: 0.4615\n",
      "\n",
      "Epoch 00004: val_loss improved from 1.52432 to 1.45133, saving model to /data/emotion_models/fer2013_mini_XCEPTION.04-0.46.hdf5\n",
      "Epoch 5/10000\n",
      "717/717 [==============================] - 42s 59ms/step - loss: 1.3159 - acc: 0.5053 - val_loss: 1.3732 - val_acc: 0.4772\n",
      "\n",
      "Epoch 00005: val_loss improved from 1.45133 to 1.37322, saving model to /data/emotion_models/fer2013_mini_XCEPTION.05-0.48.hdf5\n",
      "Epoch 6/10000\n",
      "717/717 [==============================] - 42s 59ms/step - loss: 1.2834 - acc: 0.5202 - val_loss: 1.3061 - val_acc: 0.5109\n",
      "\n",
      "Epoch 00006: val_loss improved from 1.37322 to 1.30615, saving model to /data/emotion_models/fer2013_mini_XCEPTION.06-0.51.hdf5\n",
      "Epoch 7/10000\n",
      "717/717 [==============================] - 42s 59ms/step - loss: 1.2569 - acc: 0.5250 - val_loss: 1.3306 - val_acc: 0.5145\n",
      "\n",
      "Epoch 00007: val_loss did not improve from 1.30615\n",
      "Epoch 8/10000\n",
      "717/717 [==============================] - 42s 59ms/step - loss: 1.1795 - acc: 0.5598 - val_loss: 1.2131 - val_acc: 0.5343\n",
      "\n",
      "Epoch 00011: val_loss improved from 1.25236 to 1.21308, saving model to /data/emotion_models/fer2013_mini_XCEPTION.11-0.53.hdf5\n",
      "Epoch 12/10000\n",
      "717/717 [==============================] - 42s 59ms/step - loss: 1.1543 - acc: 0.5648 - val_loss: 1.2751 - val_acc: 0.5259\n",
      "\n",
      "Epoch 00012: val_loss did not improve from 1.21308\n",
      "Epoch 13/10000\n",
      "717/717 [==============================] - 42s 59ms/step - loss: 1.1477 - acc: 0.5712 - val_loss: 1.2531 - val_acc: 0.5340\n",
      "\n",
      "Epoch 00013: val_loss did not improve from 1.21308\n",
      "Epoch 14/10000\n",
      "717/717 [==============================] - 42s 59ms/step - loss: 1.1342 - acc: 0.5767 - val_loss: 1.2014 - val_acc: 0.5559\n",
      "\n",
      "Epoch 00014: val_loss improved from 1.21308 to 1.20138, saving model to /data/emotion_models/fer2013_mini_XCEPTION.14-0.56.hdf5\n",
      "Epoch 15/10000\n",
      "717/717 [==============================] - 42s 59ms/step - loss: 1.1278 - acc: 0.5802 - val_loss: 1.2239 - val_acc: 0.5508\n",
      "\n",
      "Epoch 00015: val_loss did not improve from 1.20138\n",
      "Epoch 16/10000\n",
      "717/717 [==============================] - 42s 58ms/step - loss: 1.1117 - acc: 0.5855 - val_loss: 1.1779 - val_acc: 0.5489\n",
      "\n",
      "Epoch 00016: val_loss improved from 1.20138 to 1.17787, saving model to /data/emotion_models/fer2013_mini_XCEPTION.16-0.55.hdf5\n",
      "Epoch 17/10000\n",
      "367/717 [==============>...............] - ETA: 17s - loss: 1.0924 - acc: 0.5862"
     ]
    },
    {
     "name": "stderr",
     "output_type": "stream",
     "text": [
      "IOPub message rate exceeded.\n",
      "The notebook server will temporarily stop sending output\n",
      "to the client in order to avoid crashing it.\n",
      "To change this limit, set the config variable\n",
      "`--NotebookApp.iopub_msg_rate_limit`.\n",
      "\n",
      "Current values:\n",
      "NotebookApp.iopub_msg_rate_limit=1000.0 (msgs/sec)\n",
      "NotebookApp.rate_limit_window=3.0 (secs)\n",
      "\n"
     ]
    },
    {
     "name": "stdout",
     "output_type": "stream",
     "text": [
      "717/717 [==============================] - 42s 59ms/step - loss: 1.0920 - acc: 0.5907 - val_loss: 1.2494 - val_acc: 0.5247\n",
      "\n",
      "Epoch 00018: val_loss did not improve from 1.17787\n",
      "Epoch 19/10000\n",
      "717/717 [==============================] - 42s 59ms/step - loss: 1.0864 - acc: 0.5936 - val_loss: 1.1928 - val_acc: 0.5478\n",
      "\n",
      "Epoch 00019: val_loss did not improve from 1.17787\n",
      "Epoch 20/10000\n",
      "717/717 [==============================] - 42s 59ms/step - loss: 1.0737 - acc: 0.6013 - val_loss: 1.2082 - val_acc: 0.5538\n",
      "\n",
      "Epoch 00020: val_loss did not improve from 1.17787\n",
      "Epoch 21/10000\n",
      "717/717 [==============================] - 42s 59ms/step - loss: 1.0716 - acc: 0.6007 - val_loss: 1.2373 - val_acc: 0.5420\n",
      "\n",
      "Epoch 00021: val_loss did not improve from 1.17787\n",
      "Epoch 22/10000\n",
      "717/717 [==============================] - 42s 59ms/step - loss: 1.0637 - acc: 0.6048 - val_loss: 1.1292 - val_acc: 0.5718\n",
      "\n",
      "Epoch 00022: val_loss improved from 1.17787 to 1.12920, saving model to /data/emotion_models/fer2013_mini_XCEPTION.22-0.57.hdf5\n",
      "Epoch 23/10000\n",
      "717/717 [==============================] - 42s 59ms/step - loss: 1.0579 - acc: 0.6057 - val_loss: 1.1696 - val_acc: 0.5660\n",
      "\n",
      "Epoch 00023: val_loss did not improve from 1.12920\n",
      "Epoch 24/10000\n",
      "717/717 [==============================] - 42s 59ms/step - loss: 1.0500 - acc: 0.6085 - val_loss: 1.1896 - val_acc: 0.5548\n",
      "\n",
      "Epoch 00024: val_loss did not improve from 1.12920\n",
      "Epoch 25/10000\n",
      "101/717 [===>..........................] - ETA: 30s - loss: 1.0348 - acc: 0.6175"
     ]
    },
    {
     "name": "stderr",
     "output_type": "stream",
     "text": [
      "IOPub message rate exceeded.\n",
      "The notebook server will temporarily stop sending output\n",
      "to the client in order to avoid crashing it.\n",
      "To change this limit, set the config variable\n",
      "`--NotebookApp.iopub_msg_rate_limit`.\n",
      "\n",
      "Current values:\n",
      "NotebookApp.iopub_msg_rate_limit=1000.0 (msgs/sec)\n",
      "NotebookApp.rate_limit_window=3.0 (secs)\n",
      "\n"
     ]
    },
    {
     "name": "stdout",
     "output_type": "stream",
     "text": [
      "717/717 [==============================] - 43s 60ms/step - loss: 1.0224 - acc: 0.6180 - val_loss: 1.1212 - val_acc: 0.5820\n",
      "\n",
      "Epoch 00030: val_loss did not improve from 1.11129\n",
      "Epoch 31/10000\n",
      "717/717 [==============================] - 42s 59ms/step - loss: 1.0092 - acc: 0.6244 - val_loss: 1.1856 - val_acc: 0.5629\n",
      "\n",
      "Epoch 00031: val_loss did not improve from 1.11129\n",
      "Epoch 32/10000\n",
      "717/717 [==============================] - 42s 59ms/step - loss: 1.0104 - acc: 0.6205 - val_loss: 1.1296 - val_acc: 0.5752\n",
      "\n",
      "Epoch 00032: val_loss did not improve from 1.11129\n",
      "Epoch 33/10000\n",
      "717/717 [==============================] - 42s 59ms/step - loss: 1.0060 - acc: 0.6300 - val_loss: 1.1827 - val_acc: 0.5646\n",
      "\n",
      "Epoch 00033: val_loss did not improve from 1.11129\n",
      "Epoch 34/10000\n",
      "717/717 [==============================] - 42s 59ms/step - loss: 0.9973 - acc: 0.6286 - val_loss: 1.1278 - val_acc: 0.5906\n",
      "\n",
      "Epoch 00034: val_loss did not improve from 1.11129\n",
      "Epoch 35/10000\n",
      "549/717 [=====================>........] - ETA: 8s - loss: 0.9836 - acc: 0.6330"
     ]
    },
    {
     "name": "stderr",
     "output_type": "stream",
     "text": [
      "IOPub message rate exceeded.\n",
      "The notebook server will temporarily stop sending output\n",
      "to the client in order to avoid crashing it.\n",
      "To change this limit, set the config variable\n",
      "`--NotebookApp.iopub_msg_rate_limit`.\n",
      "\n",
      "Current values:\n",
      "NotebookApp.iopub_msg_rate_limit=1000.0 (msgs/sec)\n",
      "NotebookApp.rate_limit_window=3.0 (secs)\n",
      "\n"
     ]
    },
    {
     "name": "stdout",
     "output_type": "stream",
     "text": [
      "717/717 [==============================] - 42s 59ms/step - loss: 0.9710 - acc: 0.6404 - val_loss: 1.1096 - val_acc: 0.5834\n",
      "\n",
      "Epoch 00041: val_loss did not improve from 1.10204\n",
      "Epoch 42/10000\n",
      "717/717 [==============================] - 42s 59ms/step - loss: 0.9650 - acc: 0.6432 - val_loss: 1.1359 - val_acc: 0.5808\n",
      "\n",
      "Epoch 00042: val_loss did not improve from 1.10204\n",
      "Epoch 43/10000\n",
      "717/717 [==============================] - 42s 59ms/step - loss: 0.9646 - acc: 0.6429 - val_loss: 1.1128 - val_acc: 0.5892\n",
      "\n",
      "Epoch 00043: val_loss did not improve from 1.10204\n",
      "Epoch 44/10000\n",
      "717/717 [==============================] - 42s 59ms/step - loss: 0.9598 - acc: 0.6412 - val_loss: 1.1192 - val_acc: 0.5774\n",
      "\n",
      "Epoch 00044: val_loss did not improve from 1.10204\n",
      "Epoch 45/10000\n",
      "717/717 [==============================] - 42s 59ms/step - loss: 0.9566 - acc: 0.6450 - val_loss: 1.0800 - val_acc: 0.6025\n",
      "\n",
      "Epoch 00045: val_loss improved from 1.10204 to 1.07997, saving model to /data/emotion_models/fer2013_mini_XCEPTION.45-0.60.hdf5\n",
      "Epoch 46/10000\n",
      "450/717 [=================>............] - ETA: 13s - loss: 0.9484 - acc: 0.6493"
     ]
    },
    {
     "name": "stderr",
     "output_type": "stream",
     "text": [
      "IOPub message rate exceeded.\n",
      "The notebook server will temporarily stop sending output\n",
      "to the client in order to avoid crashing it.\n",
      "To change this limit, set the config variable\n",
      "`--NotebookApp.iopub_msg_rate_limit`.\n",
      "\n",
      "Current values:\n",
      "NotebookApp.iopub_msg_rate_limit=1000.0 (msgs/sec)\n",
      "NotebookApp.rate_limit_window=3.0 (secs)\n",
      "\n"
     ]
    },
    {
     "name": "stdout",
     "output_type": "stream",
     "text": [
      "717/717 [==============================] - 42s 59ms/step - loss: 0.9358 - acc: 0.6519 - val_loss: 1.1129 - val_acc: 0.5913\n",
      "\n",
      "Epoch 00052: val_loss did not improve from 1.07046\n",
      "Epoch 53/10000\n",
      "717/717 [==============================] - 42s 59ms/step - loss: 0.9351 - acc: 0.6513 - val_loss: 1.1263 - val_acc: 0.5860\n",
      "\n",
      "Epoch 00053: val_loss did not improve from 1.07046\n",
      "Epoch 54/10000\n",
      "717/717 [==============================] - 42s 59ms/step - loss: 0.9380 - acc: 0.6522 - val_loss: 1.0585 - val_acc: 0.6063\n",
      "\n",
      "Epoch 00054: val_loss improved from 1.07046 to 1.05846, saving model to /data/emotion_models/fer2013_mini_XCEPTION.54-0.61.hdf5\n",
      "Epoch 55/10000\n",
      "717/717 [==============================] - 42s 59ms/step - loss: 0.9310 - acc: 0.6548 - val_loss: 1.1459 - val_acc: 0.5741\n",
      "\n",
      "Epoch 00055: val_loss did not improve from 1.05846\n",
      "Epoch 56/10000\n",
      "717/717 [==============================] - 43s 59ms/step - loss: 0.9362 - acc: 0.6561 - val_loss: 1.0773 - val_acc: 0.6055\n",
      "\n",
      "Epoch 00056: val_loss did not improve from 1.05846\n",
      "Epoch 57/10000\n",
      "529/717 [=====================>........] - ETA: 9s - loss: 0.9226 - acc: 0.656"
     ]
    },
    {
     "name": "stderr",
     "output_type": "stream",
     "text": [
      "IOPub message rate exceeded.\n",
      "The notebook server will temporarily stop sending output\n",
      "to the client in order to avoid crashing it.\n",
      "To change this limit, set the config variable\n",
      "`--NotebookApp.iopub_msg_rate_limit`.\n",
      "\n",
      "Current values:\n",
      "NotebookApp.iopub_msg_rate_limit=1000.0 (msgs/sec)\n",
      "NotebookApp.rate_limit_window=3.0 (secs)\n",
      "\n"
     ]
    },
    {
     "name": "stdout",
     "output_type": "stream",
     "text": [
      "717/717 [==============================] - 42s 59ms/step - loss: 0.9201 - acc: 0.6611 - val_loss: 1.0766 - val_acc: 0.6044\n",
      "\n",
      "Epoch 00058: val_loss did not improve from 1.05846\n",
      "Epoch 59/10000\n",
      "717/717 [==============================] - 42s 59ms/step - loss: 0.9146 - acc: 0.6612 - val_loss: 1.1027 - val_acc: 0.5823\n",
      "\n",
      "Epoch 00059: val_loss did not improve from 1.05846\n",
      "Epoch 60/10000\n",
      "717/717 [==============================] - 43s 60ms/step - loss: 0.9175 - acc: 0.6598 - val_loss: 1.1094 - val_acc: 0.5806\n",
      "\n",
      "Epoch 00060: val_loss did not improve from 1.05846\n",
      "Epoch 61/10000\n",
      "717/717 [==============================] - 43s 60ms/step - loss: 0.9111 - acc: 0.6623 - val_loss: 1.0826 - val_acc: 0.5979\n",
      "\n",
      "Epoch 00061: val_loss did not improve from 1.05846\n",
      "Epoch 62/10000\n",
      "717/717 [==============================] - 42s 59ms/step - loss: 0.9196 - acc: 0.6581 - val_loss: 1.0873 - val_acc: 0.6065\n",
      "\n",
      "Epoch 00062: val_loss did not improve from 1.05846\n",
      "Epoch 63/10000\n",
      "717/717 [==============================] - 42s 59ms/step - loss: 0.9091 - acc: 0.6608 - val_loss: 1.1254 - val_acc: 0.5957\n",
      "\n",
      "Epoch 00063: val_loss did not improve from 1.05846\n",
      "Epoch 64/10000\n",
      "717/717 [==============================] - 43s 59ms/step - loss: 0.9020 - acc: 0.6642 - val_loss: 1.1348 - val_acc: 0.5909\n",
      "\n",
      "Epoch 00064: val_loss did not improve from 1.05846\n",
      "Epoch 65/10000\n",
      "717/717 [==============================] - 43s 60ms/step - loss: 0.9091 - acc: 0.6651 - val_loss: 1.0819 - val_acc: 0.5951\n",
      "\n",
      "Epoch 00065: val_loss did not improve from 1.05846\n",
      "Epoch 66/10000\n",
      "717/717 [==============================] - 42s 59ms/step - loss: 0.9004 - acc: 0.6645 - val_loss: 1.1070 - val_acc: 0.6028\n",
      "\n",
      "Epoch 00066: val_loss did not improve from 1.05846\n",
      "\n",
      "Epoch 00066: ReduceLROnPlateau reducing learning rate to 0.00010000000474974513.\n",
      "Epoch 67/10000\n",
      "717/717 [==============================] - 43s 59ms/step - loss: 0.8608 - acc: 0.6816 - val_loss: 1.0311 - val_acc: 0.6202\n",
      "\n",
      "Epoch 00067: val_loss improved from 1.05846 to 1.03114, saving model to /data/emotion_models/fer2013_mini_XCEPTION.67-0.62.hdf5\n",
      "Epoch 68/10000\n",
      "717/717 [==============================] - 43s 60ms/step - loss: 0.8342 - acc: 0.6938 - val_loss: 1.0294 - val_acc: 0.6142\n",
      "\n",
      "Epoch 00068: val_loss improved from 1.03114 to 1.02941, saving model to /data/emotion_models/fer2013_mini_XCEPTION.68-0.61.hdf5\n",
      "Epoch 69/10000\n",
      "717/717 [==============================] - 42s 59ms/step - loss: 0.8315 - acc: 0.6963 - val_loss: 1.0110 - val_acc: 0.6275\n",
      "\n",
      "Epoch 00069: val_loss improved from 1.02941 to 1.01100, saving model to /data/emotion_models/fer2013_mini_XCEPTION.69-0.63.hdf5\n",
      "Epoch 70/10000\n",
      "717/717 [==============================] - 42s 59ms/step - loss: 0.8204 - acc: 0.7010 - val_loss: 1.0347 - val_acc: 0.6111\n",
      "\n",
      "Epoch 00070: val_loss did not improve from 1.01100\n",
      "Epoch 71/10000\n",
      "717/717 [==============================] - 43s 59ms/step - loss: 0.8206 - acc: 0.6997 - val_loss: 1.0184 - val_acc: 0.6205\n",
      "\n",
      "Epoch 00071: val_loss did not improve from 1.01100\n",
      "Epoch 72/10000\n",
      "717/717 [==============================] - 42s 59ms/step - loss: 0.8161 - acc: 0.6997 - val_loss: 1.0358 - val_acc: 0.6100\n",
      "\n",
      "Epoch 00072: val_loss did not improve from 1.01100\n",
      "Epoch 73/10000\n",
      "717/717 [==============================] - 42s 59ms/step - loss: 0.8180 - acc: 0.6996 - val_loss: 1.0329 - val_acc: 0.6186\n",
      "\n",
      "Epoch 00073: val_loss did not improve from 1.01100\n",
      "Epoch 74/10000\n",
      "717/717 [==============================] - 42s 59ms/step - loss: 0.8135 - acc: 0.6997 - val_loss: 1.0382 - val_acc: 0.6097\n",
      "\n",
      "Epoch 00074: val_loss did not improve from 1.01100\n",
      "Epoch 75/10000\n",
      "717/717 [==============================] - 42s 59ms/step - loss: 0.8091 - acc: 0.7004 - val_loss: 1.0254 - val_acc: 0.6200\n",
      "\n",
      "Epoch 00075: val_loss did not improve from 1.01100\n",
      "Epoch 76/10000\n",
      "717/717 [==============================] - 42s 59ms/step - loss: 0.8098 - acc: 0.7008 - val_loss: 1.0270 - val_acc: 0.6205\n",
      "\n",
      "Epoch 00076: val_loss did not improve from 1.01100\n",
      "Epoch 77/10000\n",
      "717/717 [==============================] - 42s 59ms/step - loss: 0.8010 - acc: 0.7074 - val_loss: 1.0478 - val_acc: 0.6151\n",
      "\n",
      "Epoch 00077: val_loss did not improve from 1.01100\n",
      "Epoch 78/10000\n",
      "717/717 [==============================] - 42s 59ms/step - loss: 0.8063 - acc: 0.7042 - val_loss: 1.0501 - val_acc: 0.6114\n",
      "\n",
      "Epoch 00078: val_loss did not improve from 1.01100\n",
      "Epoch 79/10000\n",
      "717/717 [==============================] - 42s 59ms/step - loss: 0.7992 - acc: 0.7061 - val_loss: 1.0255 - val_acc: 0.6184\n",
      "\n",
      "Epoch 00079: val_loss did not improve from 1.01100\n",
      "Epoch 80/10000\n",
      "717/717 [==============================] - 42s 59ms/step - loss: 0.8089 - acc: 0.7007 - val_loss: 1.0427 - val_acc: 0.6141\n",
      "\n",
      "Epoch 00080: val_loss did not improve from 1.01100\n",
      "Epoch 81/10000\n",
      "715/717 [============================>.] - ETA: 0s - loss: 0.8064 - acc: 0.7028"
     ]
    }
   ],
   "source": [
    "import time\n",
    "start = time. time()\n",
    "\n",
    "\n",
    "model.fit_generator( \n",
    "    train_generator,\n",
    "    steps_per_epoch = train_generator.samples // BAT_SIZE,\n",
    "    validation_data = validation_generator, \n",
    "    validation_steps = validation_generator.samples // BAT_SIZE,\n",
    "    epochs=NB_EPOCHS, verbose=1, callbacks=callbacks)\n",
    "\n",
    "end = time. time()\n",
    "print(end - start)"
   ]
  },
  {
   "cell_type": "code",
   "execution_count": null,
   "metadata": {},
   "outputs": [],
   "source": []
  },
  {
   "cell_type": "code",
   "execution_count": null,
   "metadata": {},
   "outputs": [],
   "source": [
    "datasets = ['fer2013']\n",
    "for dataset_name in datasets:\n",
    "    print('Training dataset:', dataset_name)\n",
    "\n",
    "    # callbacks\n",
    "    log_file_path = base_path + dataset_name + '_emotion_training.log'\n",
    "    csv_logger = CSVLogger(log_file_path, append=False)\n",
    "    early_stop = EarlyStopping('val_loss', patience=patience)\n",
    "    reduce_lr = ReduceLROnPlateau('val_loss', factor=0.1,\n",
    "                                  patience=int(patience/4), verbose=1)\n",
    "    trained_models_path = base_path + dataset_name + '_mini_XCEPTION'\n",
    "    model_names = trained_models_path + '.{epoch:02d}-{val_acc:.2f}.hdf5'\n",
    "    model_checkpoint = ModelCheckpoint(model_names, 'val_loss', verbose=1,\n",
    "                                                    save_best_only=True)\n",
    "    callbacks = [model_checkpoint, csv_logger, early_stop, reduce_lr]\n",
    "\n",
    "    # loading dataset\n",
    "    data_loader = DataManager(dataset_name, image_size=input_shape[:2])\n",
    "    faces, emotions = data_loader.get_data()\n",
    "    faces = preprocess_input(faces)\n",
    "    num_samples, num_classes = emotions.shape\n",
    "    train_data, val_data = split_data(faces, emotions, validation_split)\n",
    "    train_faces, train_emotions = train_data\n",
    "    "
   ]
  }
 ],
 "metadata": {
  "kernelspec": {
   "display_name": "Python 3",
   "language": "python",
   "name": "python3"
  },
  "language_info": {
   "codemirror_mode": {
    "name": "ipython",
    "version": 3
   },
   "file_extension": ".py",
   "mimetype": "text/x-python",
   "name": "python",
   "nbconvert_exporter": "python",
   "pygments_lexer": "ipython3",
   "version": "3.5.2"
  }
 },
 "nbformat": 4,
 "nbformat_minor": 2
}
