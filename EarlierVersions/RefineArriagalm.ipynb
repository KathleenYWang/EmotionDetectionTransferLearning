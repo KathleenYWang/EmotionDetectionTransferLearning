{
 "cells": [
  {
   "cell_type": "code",
   "execution_count": 1,
   "metadata": {},
   "outputs": [
    {
     "name": "stderr",
     "output_type": "stream",
     "text": [
      "Using TensorFlow backend.\n"
     ]
    }
   ],
   "source": [
    "import os\n",
    "import sys\n",
    "import glob\n",
    "import argparse\n",
    "from keras import __version__\n",
    "from keras.applications.inception_v3 import InceptionV3, preprocess_input\n",
    "from keras.models import Model\n",
    "from keras.layers import Activation, Convolution2D, Dropout, Conv2D, Dense\n",
    "from keras.preprocessing.image import ImageDataGenerator\n",
    "from keras.optimizers import SGD\n",
    "from keras.callbacks import ModelCheckpoint, LearningRateScheduler, TensorBoard, EarlyStopping\n",
    "from cnn import mini_XCEPTION\n",
    "\n",
    "\n",
    "import numpy as np\n",
    "import requests\n",
    "from io import BytesIO\n",
    "\n",
    "from PIL import Image,ImageDraw,ImageFont\n",
    "from keras.preprocessing import image\n",
    "from keras.models import load_model, Sequential\n",
    "import matplotlib.pyplot as plt\n",
    "\n",
    "from keras.callbacks import CSVLogger, ModelCheckpoint, EarlyStopping\n",
    "from keras.callbacks import ReduceLROnPlateau\n",
    "from keras.preprocessing.image import ImageDataGenerator\n",
    "\n",
    "from cnn import mini_XCEPTION\n",
    "from utils.datasets import DataManager\n",
    "from utils.datasets import split_data\n",
    "from utils.preprocessor import preprocess_input\n",
    "import matplotlib.pyplot as plt"
   ]
  },
  {
   "cell_type": "markdown",
   "metadata": {},
   "source": [
    "https://blog.keras.io/building-powerful-image-classification-models-using-very-little-data.html\n",
    "https://www.learnopencv.com/keras-tutorial-transfer-learning-using-pre-trained-models/"
   ]
  },
  {
   "cell_type": "code",
   "execution_count": 2,
   "metadata": {},
   "outputs": [],
   "source": [
    "BAT_SIZE = 32\n",
    "num_epochs = 10000\n",
    "input_shape = (64, 64, 1)\n",
    "validation_split = .2\n",
    "verbose = 1\n",
    "num_classes = 7\n",
    "patience = 50\n",
    "base_path = '/data/emotion_models/'\n",
    "IM_WIDTH, IM_HEIGHT, _ = input_shape #fixed size for InceptionV3\n",
    "NB_EPOCHS = 10000\n",
    "\n",
    "FC_SIZE = 1024\n",
    "NB_LAYERS_TO_REFINE = 3"
   ]
  },
  {
   "cell_type": "code",
   "execution_count": 3,
   "metadata": {},
   "outputs": [],
   "source": [
    "# Note for this one the data dir is SFEW\n",
    "\n",
    "dataset_name = 'SFEW'\n",
    "\n",
    "log_file_path = base_path + dataset_name + '_emotion_training.log'\n",
    "csv_logger = CSVLogger(log_file_path, append=False)\n",
    "early_stop = EarlyStopping('val_loss', patience=patience)\n",
    "reduce_lr = ReduceLROnPlateau('val_loss', factor=0.1,\n",
    "                              patience=int(patience/4), verbose=1)\n",
    "trained_models_path = base_path + dataset_name + '_mini_XCEPTION'\n",
    "model_names = trained_models_path + '.{epoch:02d}-{val_acc:.2f}.hdf5'\n",
    "model_checkpoint = ModelCheckpoint(model_names, 'val_loss', verbose=1,\n",
    "                                                save_best_only=True)\n",
    "callbacks = [model_checkpoint, csv_logger, early_stop, reduce_lr]\n",
    "\n",
    "train_data_dir = \"/data/SFEW_Face/Train_Aligned_Faces\"\n",
    "val_data_dir = \"/data/SFEW_Face/Val_Aligned_Faces\"\n",
    "weights_path = \"/data/emotion_models/fer2013_mini_XCEPTION.94-0.62.hdf5\""
   ]
  },
  {
   "cell_type": "code",
   "execution_count": 4,
   "metadata": {},
   "outputs": [
    {
     "name": "stdout",
     "output_type": "stream",
     "text": [
      "Found 891 images belonging to 7 classes.\n",
      "Found 431 images belonging to 7 classes.\n"
     ]
    }
   ],
   "source": [
    "# this time use the proper validation data\n",
    "data_generator = ImageDataGenerator(\n",
    "                        preprocessing_function=preprocess_input,\n",
    "                        featurewise_center=False,\n",
    "                        featurewise_std_normalization=False,\n",
    "                        rotation_range=10,\n",
    "                        width_shift_range=0.1,\n",
    "                        height_shift_range=0.1,\n",
    "                        zoom_range=.1,\n",
    "                        horizontal_flip=True)\n",
    "\n",
    "    \n",
    "train_generator = data_generator.flow_from_directory(\n",
    "train_data_dir,\n",
    "target_size=(IM_WIDTH, IM_HEIGHT),\n",
    "batch_size=BAT_SIZE,\n",
    "color_mode=\"grayscale\")\n",
    "\n",
    "\n",
    "validation_generator = data_generator.flow_from_directory(\n",
    "val_data_dir, \n",
    "target_size=(IM_WIDTH, IM_HEIGHT),\n",
    "batch_size=BAT_SIZE,\n",
    "color_mode=\"grayscale\")\n"
   ]
  },
  {
   "cell_type": "code",
   "execution_count": 25,
   "metadata": {},
   "outputs": [
    {
     "name": "stdout",
     "output_type": "stream",
     "text": [
      "(32, 64, 64, 1)\n",
      "(64, 64, 1)\n"
     ]
    },
    {
     "data": {
      "image/png": "[encoded data removed]",
      "text/plain": [
       "<Figure size 432x288 with 1 Axes>"
      ]
     },
     "metadata": {
      "needs_background": "light"
     },
     "output_type": "display_data"
    }
   ],
   "source": [
    "x,y = train_generator.next()\n",
    "# for i in range(0,1):\n",
    "#     image = x[i]\n",
    "#     plt.imshow(image.transpose(2,1,0))\n",
    "#     plt.show()\n",
    "print(x.shape)\n",
    "image = x[2]\n",
    "print(image.shape)\n",
    "plt.imshow(image.reshape(IM_WIDTH, IM_HEIGHT))\n",
    "plt.show()"
   ]
  },
  {
   "cell_type": "code",
   "execution_count": 28,
   "metadata": {},
   "outputs": [],
   "source": [
    "model = mini_XCEPTION(input_shape, num_classes)\n",
    "model.load_weights(weights_path)"
   ]
  },
  {
   "cell_type": "code",
   "execution_count": 32,
   "metadata": {},
   "outputs": [],
   "source": [
    "def setup_to_finetune(model):\n",
    "    \"\"\"Freeze the bottom NB_IV3_LAYERS and retrain the top 3 layers (only one with conv2d).\n",
    "    model: _mini_XCEPTION\n",
    "    \"\"\"\n",
    "    for layer in model.layers[:-1*NB_LAYERS_TO_REFINE]:\n",
    "        layer.trainable = False\n",
    "    for layer in model.layers[-1*NB_LAYERS_TO_REFINE:]:\n",
    "        layer.trainable = True\n",
    "    model.compile(optimizer='adam', loss='categorical_crossentropy', metrics=['accuracy'])\n",
    "    "
   ]
  },
  {
   "cell_type": "code",
   "execution_count": 33,
   "metadata": {},
   "outputs": [],
   "source": [
    "setup_to_finetune(model)"
   ]
  },
  {
   "cell_type": "code",
   "execution_count": 34,
   "metadata": {},
   "outputs": [
    {
     "name": "stdout",
     "output_type": "stream",
     "text": [
      "__________________________________________________________________________________________________\n",
      "Layer (type)                    Output Shape         Param #     Connected to                     \n",
      "==================================================================================================\n",
      "input_2 (InputLayer)            (None, 64, 64, 1)    0                                            \n",
      "__________________________________________________________________________________________________\n",
      "conv2d_8 (Conv2D)               (None, 62, 62, 8)    72          input_2[0][0]                    \n",
      "__________________________________________________________________________________________________\n",
      "batch_normalization_15 (BatchNo (None, 62, 62, 8)    32          conv2d_8[0][0]                   \n",
      "__________________________________________________________________________________________________\n",
      "activation_7 (Activation)       (None, 62, 62, 8)    0           batch_normalization_15[0][0]     \n",
      "__________________________________________________________________________________________________\n",
      "conv2d_9 (Conv2D)               (None, 60, 60, 8)    576         activation_7[0][0]               \n",
      "__________________________________________________________________________________________________\n",
      "batch_normalization_16 (BatchNo (None, 60, 60, 8)    32          conv2d_9[0][0]                   \n",
      "__________________________________________________________________________________________________\n",
      "activation_8 (Activation)       (None, 60, 60, 8)    0           batch_normalization_16[0][0]     \n",
      "__________________________________________________________________________________________________\n",
      "separable_conv2d_9 (SeparableCo (None, 60, 60, 16)   200         activation_8[0][0]               \n",
      "__________________________________________________________________________________________________\n",
      "batch_normalization_18 (BatchNo (None, 60, 60, 16)   64          separable_conv2d_9[0][0]         \n",
      "__________________________________________________________________________________________________\n",
      "activation_9 (Activation)       (None, 60, 60, 16)   0           batch_normalization_18[0][0]     \n",
      "__________________________________________________________________________________________________\n",
      "separable_conv2d_10 (SeparableC (None, 60, 60, 16)   400         activation_9[0][0]               \n",
      "__________________________________________________________________________________________________\n",
      "batch_normalization_19 (BatchNo (None, 60, 60, 16)   64          separable_conv2d_10[0][0]        \n",
      "__________________________________________________________________________________________________\n",
      "conv2d_10 (Conv2D)              (None, 30, 30, 16)   128         activation_8[0][0]               \n",
      "__________________________________________________________________________________________________\n",
      "max_pooling2d_5 (MaxPooling2D)  (None, 30, 30, 16)   0           batch_normalization_19[0][0]     \n",
      "__________________________________________________________________________________________________\n",
      "batch_normalization_17 (BatchNo (None, 30, 30, 16)   64          conv2d_10[0][0]                  \n",
      "__________________________________________________________________________________________________\n",
      "add_5 (Add)                     (None, 30, 30, 16)   0           max_pooling2d_5[0][0]            \n",
      "                                                                 batch_normalization_17[0][0]     \n",
      "__________________________________________________________________________________________________\n",
      "separable_conv2d_11 (SeparableC (None, 30, 30, 32)   656         add_5[0][0]                      \n",
      "__________________________________________________________________________________________________\n",
      "batch_normalization_21 (BatchNo (None, 30, 30, 32)   128         separable_conv2d_11[0][0]        \n",
      "__________________________________________________________________________________________________\n",
      "activation_10 (Activation)      (None, 30, 30, 32)   0           batch_normalization_21[0][0]     \n",
      "__________________________________________________________________________________________________\n",
      "separable_conv2d_12 (SeparableC (None, 30, 30, 32)   1312        activation_10[0][0]              \n",
      "__________________________________________________________________________________________________\n",
      "batch_normalization_22 (BatchNo (None, 30, 30, 32)   128         separable_conv2d_12[0][0]        \n",
      "__________________________________________________________________________________________________\n",
      "conv2d_11 (Conv2D)              (None, 15, 15, 32)   512         add_5[0][0]                      \n",
      "__________________________________________________________________________________________________\n",
      "max_pooling2d_6 (MaxPooling2D)  (None, 15, 15, 32)   0           batch_normalization_22[0][0]     \n",
      "__________________________________________________________________________________________________\n",
      "batch_normalization_20 (BatchNo (None, 15, 15, 32)   128         conv2d_11[0][0]                  \n",
      "__________________________________________________________________________________________________\n",
      "add_6 (Add)                     (None, 15, 15, 32)   0           max_pooling2d_6[0][0]            \n",
      "                                                                 batch_normalization_20[0][0]     \n",
      "__________________________________________________________________________________________________\n",
      "separable_conv2d_13 (SeparableC (None, 15, 15, 64)   2336        add_6[0][0]                      \n",
      "__________________________________________________________________________________________________\n",
      "batch_normalization_24 (BatchNo (None, 15, 15, 64)   256         separable_conv2d_13[0][0]        \n",
      "__________________________________________________________________________________________________\n",
      "activation_11 (Activation)      (None, 15, 15, 64)   0           batch_normalization_24[0][0]     \n",
      "__________________________________________________________________________________________________\n",
      "separable_conv2d_14 (SeparableC (None, 15, 15, 64)   4672        activation_11[0][0]              \n",
      "__________________________________________________________________________________________________\n",
      "batch_normalization_25 (BatchNo (None, 15, 15, 64)   256         separable_conv2d_14[0][0]        \n",
      "__________________________________________________________________________________________________\n",
      "conv2d_12 (Conv2D)              (None, 8, 8, 64)     2048        add_6[0][0]                      \n",
      "__________________________________________________________________________________________________\n",
      "max_pooling2d_7 (MaxPooling2D)  (None, 8, 8, 64)     0           batch_normalization_25[0][0]     \n",
      "__________________________________________________________________________________________________\n",
      "batch_normalization_23 (BatchNo (None, 8, 8, 64)     256         conv2d_12[0][0]                  \n",
      "__________________________________________________________________________________________________\n",
      "add_7 (Add)                     (None, 8, 8, 64)     0           max_pooling2d_7[0][0]            \n",
      "                                                                 batch_normalization_23[0][0]     \n",
      "__________________________________________________________________________________________________\n",
      "separable_conv2d_15 (SeparableC (None, 8, 8, 128)    8768        add_7[0][0]                      \n",
      "__________________________________________________________________________________________________\n",
      "batch_normalization_27 (BatchNo (None, 8, 8, 128)    512         separable_conv2d_15[0][0]        \n",
      "__________________________________________________________________________________________________\n",
      "activation_12 (Activation)      (None, 8, 8, 128)    0           batch_normalization_27[0][0]     \n",
      "__________________________________________________________________________________________________\n",
      "separable_conv2d_16 (SeparableC (None, 8, 8, 128)    17536       activation_12[0][0]              \n",
      "__________________________________________________________________________________________________\n",
      "batch_normalization_28 (BatchNo (None, 8, 8, 128)    512         separable_conv2d_16[0][0]        \n",
      "__________________________________________________________________________________________________\n",
      "conv2d_13 (Conv2D)              (None, 4, 4, 128)    8192        add_7[0][0]                      \n",
      "__________________________________________________________________________________________________\n",
      "max_pooling2d_8 (MaxPooling2D)  (None, 4, 4, 128)    0           batch_normalization_28[0][0]     \n",
      "__________________________________________________________________________________________________\n",
      "batch_normalization_26 (BatchNo (None, 4, 4, 128)    512         conv2d_13[0][0]                  \n",
      "__________________________________________________________________________________________________\n",
      "add_8 (Add)                     (None, 4, 4, 128)    0           max_pooling2d_8[0][0]            \n",
      "                                                                 batch_normalization_26[0][0]     \n",
      "__________________________________________________________________________________________________\n",
      "conv2d_14 (Conv2D)              (None, 4, 4, 7)      8071        add_8[0][0]                      \n",
      "__________________________________________________________________________________________________\n",
      "global_average_pooling2d_2 (Glo (None, 7)            0           conv2d_14[0][0]                  \n",
      "__________________________________________________________________________________________________\n",
      "predictions (Activation)        (None, 7)            0           global_average_pooling2d_2[0][0] \n",
      "==================================================================================================\n",
      "Total params: 58,423\n",
      "Trainable params: 8,071\n",
      "Non-trainable params: 50,352\n",
      "__________________________________________________________________________________________________\n"
     ]
    }
   ],
   "source": [
    "model.summary()"
   ]
  },
  {
   "cell_type": "markdown",
   "metadata": {},
   "source": [
    "### Uncomment below to actually run it"
   ]
  },
  {
   "cell_type": "code",
   "execution_count": null,
   "metadata": {},
   "outputs": [],
   "source": [
    "# import time\n",
    "# start = time. time()\n",
    "\n",
    "\n",
    "# refine_model.fit_generator( \n",
    "#     train_generator,\n",
    "#     steps_per_epoch = train_generator.samples // BAT_SIZE,\n",
    "#     validation_data = validation_generator, \n",
    "#     validation_steps = validation_generator.samples // BAT_SIZE,\n",
    "#     epochs=NB_EPOCHS, verbose=1, callbacks=callbacks)\n",
    "\n",
    "\n",
    "# end = time. time()\n",
    "# print(end - start)"
   ]
  },
  {
   "cell_type": "code",
   "execution_count": 5,
   "metadata": {},
   "outputs": [
    {
     "name": "stdout",
     "output_type": "stream",
     "text": [
      "Found 7177 images belonging to 7 classes.\n"
     ]
    }
   ],
   "source": [
    "### Evaluate against the FER test data set\n",
    "# this time use the proper validation data\n",
    "test_data_dir = \"/data/FER2013/PrivateTest\"\n",
    "data_generator = ImageDataGenerator(\n",
    "                        preprocessing_function=preprocess_input,\n",
    "                        featurewise_center=False,\n",
    "                        featurewise_std_normalization=False)\n",
    "\n",
    "    \n",
    "test_generator = data_generator.flow_from_directory(\n",
    "test_data_dir,\n",
    "target_size=(IM_WIDTH, IM_HEIGHT),\n",
    "batch_size=1,\n",
    "color_mode=\"grayscale\",\n",
    "shuffle=False)\n",
    "\n",
    "\n"
   ]
  },
  {
   "cell_type": "code",
   "execution_count": 82,
   "metadata": {},
   "outputs": [],
   "source": [
    "final_weights_path = \"/data/emotion_models/SFEW_mini_XCEPTION.35-0.43.hdf5\"\n",
    "final_model = mini_XCEPTION(input_shape, num_classes)\n",
    "final_model.load_weights(final_weights_path)"
   ]
  },
  {
   "cell_type": "code",
   "execution_count": 43,
   "metadata": {},
   "outputs": [],
   "source": [
    "ground_truth = test_generator.classes\n",
    "label2index = test_generator.class_indices\n",
    "idx2label = dict((v,k) for k,v in label2index.items())"
   ]
  },
  {
   "cell_type": "code",
   "execution_count": 62,
   "metadata": {},
   "outputs": [],
   "source": [
    "\n",
    "\n",
    "filenames = test_generator.filenames\n",
    "nb_samples = len(filenames)\n",
    "\n",
    "predictions = final_model.predict_generator(test_generator,steps = nb_samples)\n"
   ]
  },
  {
   "cell_type": "code",
   "execution_count": 64,
   "metadata": {},
   "outputs": [],
   "source": [
    "y_classes = predictions.argmax(axis=-1)"
   ]
  },
  {
   "cell_type": "code",
   "execution_count": 65,
   "metadata": {},
   "outputs": [
    {
     "data": {
      "text/plain": [
       "7177"
      ]
     },
     "execution_count": 65,
     "metadata": {},
     "output_type": "execute_result"
    }
   ],
   "source": [
    "len(y_classes)"
   ]
  },
  {
   "cell_type": "code",
   "execution_count": 59,
   "metadata": {},
   "outputs": [
    {
     "data": {
      "text/plain": [
       "7177"
      ]
     },
     "execution_count": 59,
     "metadata": {},
     "output_type": "execute_result"
    }
   ],
   "source": [
    "\n",
    "len(ground_truth)"
   ]
  },
  {
   "cell_type": "code",
   "execution_count": 70,
   "metadata": {},
   "outputs": [],
   "source": [
    "errors = np.where(y_classes != ground_truth)[0]\n",
    "\n"
   ]
  },
  {
   "cell_type": "code",
   "execution_count": 71,
   "metadata": {},
   "outputs": [
    {
     "data": {
      "text/plain": [
       "array([3, 4, 2, ..., 4, 3, 5])"
      ]
     },
     "execution_count": 71,
     "metadata": {},
     "output_type": "execute_result"
    }
   ],
   "source": [
    "y_classes"
   ]
  },
  {
   "cell_type": "code",
   "execution_count": 72,
   "metadata": {},
   "outputs": [
    {
     "data": {
      "text/plain": [
       "array([0, 0, 0, ..., 6, 6, 6], dtype=int32)"
      ]
     },
     "execution_count": 72,
     "metadata": {},
     "output_type": "execute_result"
    }
   ],
   "source": [
    "ground_truth"
   ]
  },
  {
   "cell_type": "code",
   "execution_count": 73,
   "metadata": {},
   "outputs": [
    {
     "data": {
      "text/plain": [
       "5969"
      ]
     },
     "execution_count": 73,
     "metadata": {},
     "output_type": "execute_result"
    }
   ],
   "source": [
    "len(errors)"
   ]
  },
  {
   "cell_type": "code",
   "execution_count": 75,
   "metadata": {},
   "outputs": [
    {
     "name": "stdout",
     "output_type": "stream",
     "text": [
      "(1, 64, 64, 1)\n",
      "(64, 64, 1)\n"
     ]
    },
    {
     "data": {
      "image/png": "[encoded data removed]",
      "text/plain": [
       "<Figure size 432x288 with 1 Axes>"
      ]
     },
     "metadata": {
      "needs_background": "light"
     },
     "output_type": "display_data"
    }
   ],
   "source": [
    "x,y = test_generator.next()\n",
    "# for i in range(0,1):\n",
    "#     image = x[i]\n",
    "#     plt.imshow(image.transpose(2,1,0))\n",
    "#     plt.show()\n",
    "print(x.shape)\n",
    "image = x[0]\n",
    "print(image.shape)\n",
    "plt.imshow(image.reshape(IM_WIDTH, IM_HEIGHT))\n",
    "plt.show()"
   ]
  },
  {
   "cell_type": "markdown",
   "metadata": {},
   "source": [
    "## it seems to have worked, but for some reason the accuracy is so low, going to test again using pre-refined model\n",
    "\n",
    "## The accuracy is low because the generator automatically shuffle the data, we have to stop it otherwise it won't match the y flags"
   ]
  },
  {
   "cell_type": "code",
   "execution_count": 104,
   "metadata": {},
   "outputs": [
    {
     "name": "stdout",
     "output_type": "stream",
     "text": [
      "Found 0 images belonging to 0 classes.\n"
     ]
    }
   ],
   "source": [
    "### Evaluate against the FER test data set\n",
    "# this time use the proper validation data\n",
    "test_data_dir = \"/data/SFEW_Face/Test_Aligned_Faces\"\n",
    "data_generator = ImageDataGenerator(\n",
    "                        preprocessing_function=preprocess_input,\n",
    "                        featurewise_center=False,\n",
    "                        featurewise_std_normalization=False)\n",
    "\n",
    "    \n",
    "test_generator = data_generator.flow_from_directory(\n",
    "test_data_dir,\n",
    "target_size=(IM_WIDTH, IM_HEIGHT),\n",
    "batch_size=1,\n",
    "color_mode=\"grayscale\",\n",
    "shuffle=False)\n"
   ]
  },
  {
   "cell_type": "code",
   "execution_count": 80,
   "metadata": {},
   "outputs": [],
   "source": [
    "model = mini_XCEPTION(input_shape, num_classes)\n",
    "model.load_weights(weights_path)"
   ]
  },
  {
   "cell_type": "code",
   "execution_count": null,
   "metadata": {},
   "outputs": [],
   "source": []
  },
  {
   "cell_type": "code",
   "execution_count": 84,
   "metadata": {},
   "outputs": [],
   "source": [
    "filenames = test_generator.filenames\n",
    "nb_samples = len(filenames)\n",
    "\n",
    "predictions = model.predict_generator(test_generator,steps = nb_samples)\n"
   ]
  },
  {
   "cell_type": "code",
   "execution_count": 88,
   "metadata": {},
   "outputs": [],
   "source": [
    "y_classes_old = predictions.argmax(axis=-1)\n",
    "errors = np.where(y_classes_old != ground_truth)[0]"
   ]
  },
  {
   "cell_type": "code",
   "execution_count": 89,
   "metadata": {},
   "outputs": [
    {
     "data": {
      "text/plain": [
       "5922"
      ]
     },
     "execution_count": 89,
     "metadata": {},
     "output_type": "execute_result"
    }
   ],
   "source": [
    "len(errors)"
   ]
  },
  {
   "cell_type": "code",
   "execution_count": 90,
   "metadata": {},
   "outputs": [
    {
     "name": "stdout",
     "output_type": "stream",
     "text": [
      "0.8251358506339697\n"
     ]
    }
   ],
   "source": [
    "print(5922.0/7177)"
   ]
  },
  {
   "cell_type": "code",
   "execution_count": 105,
   "metadata": {},
   "outputs": [
    {
     "name": "stdout",
     "output_type": "stream",
     "text": [
      "Found 431 images belonging to 7 classes.\n"
     ]
    }
   ],
   "source": [
    "### why accuracy so low! check again\n",
    "test_data_dir = \"/data/SFEW_Face/Val_Aligned_Faces\"\n",
    "\n",
    " \n",
    "test_generator = data_generator.flow_from_directory(\n",
    "test_data_dir,\n",
    "target_size=(IM_WIDTH, IM_HEIGHT),\n",
    "batch_size=1,\n",
    "color_mode=\"grayscale\",\n",
    "shuffle=False)"
   ]
  },
  {
   "cell_type": "code",
   "execution_count": 114,
   "metadata": {},
   "outputs": [],
   "source": [
    "final_model = mini_XCEPTION(input_shape, num_classes)\n",
    "final_model.load_weights(final_weights_path)"
   ]
  },
  {
   "cell_type": "code",
   "execution_count": 107,
   "metadata": {},
   "outputs": [],
   "source": [
    "ground_truth = test_generator.classes\n",
    "label2index = test_generator.class_indices\n",
    "idx2label = dict((v,k) for k,v in label2index.items())\n",
    "\n",
    "filenames = test_generator.filenames\n",
    "nb_samples = len(filenames)\n",
    "\n",
    "predictions = final_model.predict_generator(test_generator,steps = nb_samples)\n"
   ]
  },
  {
   "cell_type": "code",
   "execution_count": 108,
   "metadata": {},
   "outputs": [
    {
     "data": {
      "text/plain": [
       "array([[0.0791631 , 0.02193147, 0.11939809, ..., 0.15370555, 0.10044391,\n",
       "        0.1069942 ],\n",
       "       [0.4036634 , 0.02254257, 0.297554  , ..., 0.07212307, 0.0312715 ,\n",
       "        0.07254452],\n",
       "       [0.06888822, 0.01881017, 0.30652082, ..., 0.083818  , 0.13310099,\n",
       "        0.12440033],\n",
       "       ...,\n",
       "       [0.87169695, 0.00189363, 0.08334683, ..., 0.01781679, 0.00523324,\n",
       "        0.01265741],\n",
       "       [0.12204959, 0.01454979, 0.18506977, ..., 0.01064551, 0.1789466 ,\n",
       "        0.47952715],\n",
       "       [0.87169695, 0.00189363, 0.08334683, ..., 0.01781679, 0.00523324,\n",
       "        0.01265741]], dtype=float32)"
      ]
     },
     "execution_count": 108,
     "metadata": {},
     "output_type": "execute_result"
    }
   ],
   "source": [
    "predictions"
   ]
  },
  {
   "cell_type": "code",
   "execution_count": 109,
   "metadata": {},
   "outputs": [],
   "source": [
    "y_classes = predictions.argmax(axis=-1)\n",
    "len(y_classes)\n",
    "errors = np.where(y_classes != ground_truth)[0]"
   ]
  },
  {
   "cell_type": "code",
   "execution_count": 110,
   "metadata": {},
   "outputs": [
    {
     "data": {
      "text/plain": [
       "253"
      ]
     },
     "execution_count": 110,
     "metadata": {},
     "output_type": "execute_result"
    }
   ],
   "source": [
    "len(errors)"
   ]
  },
  {
   "cell_type": "code",
   "execution_count": 112,
   "metadata": {},
   "outputs": [
    {
     "name": "stdout",
     "output_type": "stream",
     "text": [
      "0.41299303944315546\n"
     ]
    }
   ],
   "source": [
    "print(1-253.0/431)"
   ]
  },
  {
   "cell_type": "code",
   "execution_count": 118,
   "metadata": {},
   "outputs": [],
   "source": [
    "\n",
    "final_model_old = mini_XCEPTION(input_shape, num_classes)\n",
    "final_model_old.load_weights(weights_path)"
   ]
  },
  {
   "cell_type": "code",
   "execution_count": 119,
   "metadata": {},
   "outputs": [],
   "source": [
    "\n",
    "predictions_old = final_model_old.predict_generator(test_generator,steps = nb_samples)"
   ]
  },
  {
   "cell_type": "code",
   "execution_count": 120,
   "metadata": {},
   "outputs": [],
   "source": [
    "y_classes_old = predictions_old.argmax(axis=-1)\n",
    "len(y_classes_old)\n",
    "errors_old = np.where(y_classes_old != ground_truth)[0]"
   ]
  },
  {
   "cell_type": "code",
   "execution_count": 121,
   "metadata": {},
   "outputs": [
    {
     "data": {
      "text/plain": [
       "253"
      ]
     },
     "execution_count": 121,
     "metadata": {},
     "output_type": "execute_result"
    }
   ],
   "source": [
    "len(errors)"
   ]
  },
  {
   "cell_type": "markdown",
   "metadata": {},
   "source": [
    "### There are not enough new data to change the prediction much, instead try adding another layer to it"
   ]
  },
  {
   "cell_type": "code",
   "execution_count": 173,
   "metadata": {},
   "outputs": [
    {
     "data": {
      "text/plain": [
       "<keras.layers.pooling.GlobalAveragePooling2D at 0x7f9c61fd6fd0>"
      ]
     },
     "execution_count": 173,
     "metadata": {},
     "output_type": "execute_result"
    }
   ],
   "source": [
    "final_model_new =  mini_XCEPTION(input_shape, num_classes)\n",
    "final_model_new.load_weights(weights_path)\n",
    "final_model_new.layers.pop() # Get rid of the classification layer\n",
    "final_model_new.layers.pop()\n"
   ]
  },
  {
   "cell_type": "code",
   "execution_count": 160,
   "metadata": {},
   "outputs": [],
   "source": [
    "# final_model_new.summary()"
   ]
  },
  {
   "cell_type": "code",
   "execution_count": 130,
   "metadata": {},
   "outputs": [],
   "source": [
    "# dont use this\n",
    "# final_model_aaa=  mini_XCEPTION(input_shape, num_classes)\n",
    "# final_model_aaa = Model( final_model_aaa.input, final_model_aaa.layers[-3].output) \n",
    "# final_model_aaa.summary()"
   ]
  },
  {
   "cell_type": "code",
   "execution_count": 161,
   "metadata": {},
   "outputs": [],
   "source": [
    "# final_model_new =  mini_XCEPTION(input_shape, num_classes)\n",
    "# final_model_new.layers.pop()\n",
    "# final_model_new.layers.pop()\n"
   ]
  },
  {
   "cell_type": "markdown",
   "metadata": {},
   "source": [
    "I actually ran into this recently, and I believe that this is an issue with how Model was rewritten to be more graph-based. In addition to the layers property models also have an outputs property, so when you pop layers off your last layer is left dangling in the model's output (which is why your model still thinks its output size is 1000).\n",
    "\n",
    "A method to pop layers off and manage all the links correctly is needed, but until then I believe this would work: (my model compiles, but I haven't tried training it yet)\n"
   ]
  },
  {
   "cell_type": "code",
   "execution_count": 12,
   "metadata": {},
   "outputs": [],
   "source": [
    "\n",
    "# ... Load pre-trained minixception model\n",
    "final_model_new =  mini_XCEPTION(input_shape, num_classes)\n",
    "final_model_new.load_weights(weights_path)\n",
    "final_model_new.layers.pop() # Get rid of the Activation layer\n",
    "final_model_new.layers[-1].outbound_nodes = []\n",
    "final_model_new.outputs = [final_model_new.layers[-1].output]\n",
    "output = final_model_new.get_layer('last_pool').output\n",
    "output = Dense(56, activation='relu')(output)\n",
    "output = Dense(7, activation='softmax')(output)\n",
    "new_model = Model(final_model_new.input, output)\n",
    "\n",
    "\n",
    "for layer in new_model.layers[:-2]:\n",
    "    layer.trainable = False\n",
    "for layer in new_model.layers[-2:]:\n",
    "    layer.trainable = True"
   ]
  },
  {
   "cell_type": "code",
   "execution_count": 13,
   "metadata": {},
   "outputs": [
    {
     "name": "stdout",
     "output_type": "stream",
     "text": [
      "__________________________________________________________________________________________________\n",
      "Layer (type)                    Output Shape         Param #     Connected to                     \n",
      "==================================================================================================\n",
      "input_3 (InputLayer)            (None, 64, 64, 1)    0                                            \n",
      "__________________________________________________________________________________________________\n",
      "conv2d_15 (Conv2D)              (None, 62, 62, 8)    72          input_3[0][0]                    \n",
      "__________________________________________________________________________________________________\n",
      "batch_normalization_29 (BatchNo (None, 62, 62, 8)    32          conv2d_15[0][0]                  \n",
      "__________________________________________________________________________________________________\n",
      "activation_13 (Activation)      (None, 62, 62, 8)    0           batch_normalization_29[0][0]     \n",
      "__________________________________________________________________________________________________\n",
      "conv2d_16 (Conv2D)              (None, 60, 60, 8)    576         activation_13[0][0]              \n",
      "__________________________________________________________________________________________________\n",
      "batch_normalization_30 (BatchNo (None, 60, 60, 8)    32          conv2d_16[0][0]                  \n",
      "__________________________________________________________________________________________________\n",
      "activation_14 (Activation)      (None, 60, 60, 8)    0           batch_normalization_30[0][0]     \n",
      "__________________________________________________________________________________________________\n",
      "separable_conv2d_17 (SeparableC (None, 60, 60, 16)   200         activation_14[0][0]              \n",
      "__________________________________________________________________________________________________\n",
      "batch_normalization_32 (BatchNo (None, 60, 60, 16)   64          separable_conv2d_17[0][0]        \n",
      "__________________________________________________________________________________________________\n",
      "activation_15 (Activation)      (None, 60, 60, 16)   0           batch_normalization_32[0][0]     \n",
      "__________________________________________________________________________________________________\n",
      "separable_conv2d_18 (SeparableC (None, 60, 60, 16)   400         activation_15[0][0]              \n",
      "__________________________________________________________________________________________________\n",
      "batch_normalization_33 (BatchNo (None, 60, 60, 16)   64          separable_conv2d_18[0][0]        \n",
      "__________________________________________________________________________________________________\n",
      "conv2d_17 (Conv2D)              (None, 30, 30, 16)   128         activation_14[0][0]              \n",
      "__________________________________________________________________________________________________\n",
      "max_pooling2d_9 (MaxPooling2D)  (None, 30, 30, 16)   0           batch_normalization_33[0][0]     \n",
      "__________________________________________________________________________________________________\n",
      "batch_normalization_31 (BatchNo (None, 30, 30, 16)   64          conv2d_17[0][0]                  \n",
      "__________________________________________________________________________________________________\n",
      "add_9 (Add)                     (None, 30, 30, 16)   0           max_pooling2d_9[0][0]            \n",
      "                                                                 batch_normalization_31[0][0]     \n",
      "__________________________________________________________________________________________________\n",
      "separable_conv2d_19 (SeparableC (None, 30, 30, 32)   656         add_9[0][0]                      \n",
      "__________________________________________________________________________________________________\n",
      "batch_normalization_35 (BatchNo (None, 30, 30, 32)   128         separable_conv2d_19[0][0]        \n",
      "__________________________________________________________________________________________________\n",
      "activation_16 (Activation)      (None, 30, 30, 32)   0           batch_normalization_35[0][0]     \n",
      "__________________________________________________________________________________________________\n",
      "separable_conv2d_20 (SeparableC (None, 30, 30, 32)   1312        activation_16[0][0]              \n",
      "__________________________________________________________________________________________________\n",
      "batch_normalization_36 (BatchNo (None, 30, 30, 32)   128         separable_conv2d_20[0][0]        \n",
      "__________________________________________________________________________________________________\n",
      "conv2d_18 (Conv2D)              (None, 15, 15, 32)   512         add_9[0][0]                      \n",
      "__________________________________________________________________________________________________\n",
      "max_pooling2d_10 (MaxPooling2D) (None, 15, 15, 32)   0           batch_normalization_36[0][0]     \n",
      "__________________________________________________________________________________________________\n",
      "batch_normalization_34 (BatchNo (None, 15, 15, 32)   128         conv2d_18[0][0]                  \n",
      "__________________________________________________________________________________________________\n",
      "add_10 (Add)                    (None, 15, 15, 32)   0           max_pooling2d_10[0][0]           \n",
      "                                                                 batch_normalization_34[0][0]     \n",
      "__________________________________________________________________________________________________\n",
      "separable_conv2d_21 (SeparableC (None, 15, 15, 64)   2336        add_10[0][0]                     \n",
      "__________________________________________________________________________________________________\n",
      "batch_normalization_38 (BatchNo (None, 15, 15, 64)   256         separable_conv2d_21[0][0]        \n",
      "__________________________________________________________________________________________________\n",
      "activation_17 (Activation)      (None, 15, 15, 64)   0           batch_normalization_38[0][0]     \n",
      "__________________________________________________________________________________________________\n",
      "separable_conv2d_22 (SeparableC (None, 15, 15, 64)   4672        activation_17[0][0]              \n",
      "__________________________________________________________________________________________________\n",
      "batch_normalization_39 (BatchNo (None, 15, 15, 64)   256         separable_conv2d_22[0][0]        \n",
      "__________________________________________________________________________________________________\n",
      "conv2d_19 (Conv2D)              (None, 8, 8, 64)     2048        add_10[0][0]                     \n",
      "__________________________________________________________________________________________________\n",
      "max_pooling2d_11 (MaxPooling2D) (None, 8, 8, 64)     0           batch_normalization_39[0][0]     \n",
      "__________________________________________________________________________________________________\n",
      "batch_normalization_37 (BatchNo (None, 8, 8, 64)     256         conv2d_19[0][0]                  \n",
      "__________________________________________________________________________________________________\n",
      "add_11 (Add)                    (None, 8, 8, 64)     0           max_pooling2d_11[0][0]           \n",
      "                                                                 batch_normalization_37[0][0]     \n",
      "__________________________________________________________________________________________________\n",
      "separable_conv2d_23 (SeparableC (None, 8, 8, 128)    8768        add_11[0][0]                     \n",
      "__________________________________________________________________________________________________\n",
      "batch_normalization_41 (BatchNo (None, 8, 8, 128)    512         separable_conv2d_23[0][0]        \n",
      "__________________________________________________________________________________________________\n",
      "activation_18 (Activation)      (None, 8, 8, 128)    0           batch_normalization_41[0][0]     \n",
      "__________________________________________________________________________________________________\n",
      "separable_conv2d_24 (SeparableC (None, 8, 8, 128)    17536       activation_18[0][0]              \n",
      "__________________________________________________________________________________________________\n",
      "batch_normalization_42 (BatchNo (None, 8, 8, 128)    512         separable_conv2d_24[0][0]        \n",
      "__________________________________________________________________________________________________\n",
      "conv2d_20 (Conv2D)              (None, 4, 4, 128)    8192        add_11[0][0]                     \n",
      "__________________________________________________________________________________________________\n",
      "max_pooling2d_12 (MaxPooling2D) (None, 4, 4, 128)    0           batch_normalization_42[0][0]     \n",
      "__________________________________________________________________________________________________\n",
      "batch_normalization_40 (BatchNo (None, 4, 4, 128)    512         conv2d_20[0][0]                  \n",
      "__________________________________________________________________________________________________\n",
      "add_12 (Add)                    (None, 4, 4, 128)    0           max_pooling2d_12[0][0]           \n",
      "                                                                 batch_normalization_40[0][0]     \n",
      "__________________________________________________________________________________________________\n",
      "conv2d_21 (Conv2D)              (None, 4, 4, 7)      8071        add_12[0][0]                     \n",
      "__________________________________________________________________________________________________\n",
      "last_pool (GlobalAveragePooling (None, 7)            0           conv2d_21[0][0]                  \n",
      "__________________________________________________________________________________________________\n",
      "dense_4 (Dense)                 (None, 56)           448         last_pool[0][0]                  \n",
      "__________________________________________________________________________________________________\n",
      "dense_5 (Dense)                 (None, 7)            399         dense_4[0][0]                    \n",
      "==================================================================================================\n",
      "Total params: 59,270\n",
      "Trainable params: 847\n",
      "Non-trainable params: 58,423\n",
      "__________________________________________________________________________________________________\n"
     ]
    }
   ],
   "source": [
    "new_model.summary()"
   ]
  },
  {
   "cell_type": "code",
   "execution_count": 14,
   "metadata": {},
   "outputs": [],
   "source": [
    "new_model.compile(optimizer='adam', loss='categorical_crossentropy', metrics=['accuracy'])"
   ]
  },
  {
   "cell_type": "code",
   "execution_count": 15,
   "metadata": {},
   "outputs": [
    {
     "name": "stdout",
     "output_type": "stream",
     "text": [
      "Epoch 1/10000\n",
      "27/27 [==============================] - 2s 89ms/step - loss: 2.0765 - acc: 0.1947 - val_loss: 1.8935 - val_acc: 0.2306\n",
      "\n",
      "Epoch 00001: val_loss did not improve from 1.61407\n",
      "Epoch 2/10000\n",
      "27/27 [==============================] - 2s 68ms/step - loss: 1.7406 - acc: 0.2872 - val_loss: 1.7913 - val_acc: 0.2882\n",
      "\n",
      "Epoch 00002: val_loss did not improve from 1.61407\n",
      "Epoch 3/10000\n",
      "27/27 [==============================] - 2s 77ms/step - loss: 1.5960 - acc: 0.3744 - val_loss: 1.7077 - val_acc: 0.3108\n",
      "\n",
      "Epoch 00003: val_loss did not improve from 1.61407\n",
      "Epoch 4/10000\n",
      "27/27 [==============================] - 2s 79ms/step - loss: 1.5894 - acc: 0.3977 - val_loss: 1.6817 - val_acc: 0.3365\n",
      "\n",
      "Epoch 00004: val_loss did not improve from 1.61407\n",
      "Epoch 5/10000\n",
      "27/27 [==============================] - 2s 77ms/step - loss: 1.4909 - acc: 0.4588 - val_loss: 1.7057 - val_acc: 0.3308\n",
      "\n",
      "Epoch 00005: val_loss did not improve from 1.61407\n",
      "Epoch 6/10000\n",
      "27/27 [==============================] - 2s 77ms/step - loss: 1.4584 - acc: 0.4785 - val_loss: 1.6608 - val_acc: 0.3885\n",
      "\n",
      "Epoch 00006: val_loss did not improve from 1.61407\n",
      "Epoch 7/10000\n",
      "27/27 [==============================] - 2s 77ms/step - loss: 1.4449 - acc: 0.4781 - val_loss: 1.7270 - val_acc: 0.3584\n",
      "\n",
      "Epoch 00007: val_loss did not improve from 1.61407\n",
      "Epoch 8/10000\n",
      "27/27 [==============================] - 2s 77ms/step - loss: 1.4321 - acc: 0.4679 - val_loss: 1.6436 - val_acc: 0.3734\n",
      "\n",
      "Epoch 00008: val_loss did not improve from 1.61407\n",
      "Epoch 9/10000\n",
      "27/27 [==============================] - 2s 77ms/step - loss: 1.4664 - acc: 0.4466 - val_loss: 1.7023 - val_acc: 0.3935\n",
      "\n",
      "Epoch 00009: val_loss did not improve from 1.61407\n",
      "Epoch 10/10000\n",
      "27/27 [==============================] - 2s 77ms/step - loss: 1.4283 - acc: 0.5078 - val_loss: 1.7159 - val_acc: 0.3509\n",
      "\n",
      "Epoch 00010: val_loss did not improve from 1.61407\n",
      "Epoch 11/10000\n",
      "27/27 [==============================] - 2s 76ms/step - loss: 1.4049 - acc: 0.4781 - val_loss: 1.7038 - val_acc: 0.3509\n",
      "\n",
      "Epoch 00011: val_loss did not improve from 1.61407\n",
      "Epoch 12/10000\n",
      "27/27 [==============================] - 2s 77ms/step - loss: 1.4109 - acc: 0.4810 - val_loss: 1.7023 - val_acc: 0.3634\n",
      "\n",
      "Epoch 00012: val_loss did not improve from 1.61407\n",
      "Epoch 13/10000\n",
      "27/27 [==============================] - 2s 76ms/step - loss: 1.4048 - acc: 0.4963 - val_loss: 1.7012 - val_acc: 0.3534\n",
      "\n",
      "Epoch 00013: val_loss did not improve from 1.61407\n",
      "Epoch 14/10000\n",
      "27/27 [==============================] - 2s 77ms/step - loss: 1.4072 - acc: 0.4794 - val_loss: 1.7131 - val_acc: 0.3659\n",
      "\n",
      "Epoch 00014: val_loss did not improve from 1.61407\n",
      "Epoch 15/10000\n",
      "27/27 [==============================] - 2s 77ms/step - loss: 1.3979 - acc: 0.4916 - val_loss: 1.6742 - val_acc: 0.3584\n",
      "\n",
      "Epoch 00015: val_loss did not improve from 1.61407\n",
      "Epoch 16/10000\n",
      "27/27 [==============================] - 2s 76ms/step - loss: 1.3874 - acc: 0.4868 - val_loss: 1.7003 - val_acc: 0.3810\n",
      "\n",
      "Epoch 00016: val_loss did not improve from 1.61407\n",
      "Epoch 17/10000\n",
      "27/27 [==============================] - 2s 77ms/step - loss: 1.3569 - acc: 0.4904 - val_loss: 1.6657 - val_acc: 0.3885\n",
      "\n",
      "Epoch 00017: val_loss did not improve from 1.61407\n",
      "Epoch 18/10000\n",
      "27/27 [==============================] - 2s 79ms/step - loss: 1.4196 - acc: 0.4783 - val_loss: 1.6887 - val_acc: 0.3822\n",
      "\n",
      "Epoch 00018: val_loss did not improve from 1.61407\n",
      "Epoch 19/10000\n",
      "27/27 [==============================] - 2s 77ms/step - loss: 1.3832 - acc: 0.5046 - val_loss: 1.7020 - val_acc: 0.3835\n",
      "\n",
      "Epoch 00019: val_loss did not improve from 1.61407\n",
      "Epoch 20/10000\n",
      "27/27 [==============================] - 2s 78ms/step - loss: 1.3810 - acc: 0.4919 - val_loss: 1.7158 - val_acc: 0.3709\n",
      "\n",
      "Epoch 00020: val_loss did not improve from 1.61407\n",
      "\n",
      "Epoch 00020: ReduceLROnPlateau reducing learning rate to 0.00010000000474974513.\n",
      "Epoch 21/10000\n",
      "27/27 [==============================] - 2s 68ms/step - loss: 1.3764 - acc: 0.4926 - val_loss: 1.7906 - val_acc: 0.3584\n",
      "\n",
      "Epoch 00021: val_loss did not improve from 1.61407\n",
      "Epoch 22/10000\n",
      "27/27 [==============================] - 2s 77ms/step - loss: 1.3676 - acc: 0.4679 - val_loss: 1.6321 - val_acc: 0.4336\n",
      "\n",
      "Epoch 00022: val_loss did not improve from 1.61407\n",
      "Epoch 23/10000\n",
      "27/27 [==============================] - 2s 77ms/step - loss: 1.4050 - acc: 0.4924 - val_loss: 1.7806 - val_acc: 0.3509\n",
      "\n",
      "Epoch 00023: val_loss did not improve from 1.61407\n",
      "Epoch 24/10000\n",
      "27/27 [==============================] - 2s 77ms/step - loss: 1.3975 - acc: 0.4743 - val_loss: 1.6884 - val_acc: 0.3860\n",
      "\n",
      "Epoch 00024: val_loss did not improve from 1.61407\n",
      "Epoch 25/10000\n",
      "27/27 [==============================] - 2s 77ms/step - loss: 1.4130 - acc: 0.4752 - val_loss: 1.8159 - val_acc: 0.3509\n",
      "\n",
      "Epoch 00025: val_loss did not improve from 1.61407\n",
      "Epoch 26/10000\n",
      "27/27 [==============================] - 2s 77ms/step - loss: 1.3472 - acc: 0.5192 - val_loss: 1.6640 - val_acc: 0.3810\n",
      "\n",
      "Epoch 00026: val_loss did not improve from 1.61407\n",
      "Epoch 27/10000\n",
      "27/27 [==============================] - 2s 77ms/step - loss: 1.4148 - acc: 0.4871 - val_loss: 1.7767 - val_acc: 0.3459\n",
      "\n",
      "Epoch 00027: val_loss did not improve from 1.61407\n",
      "Epoch 28/10000\n",
      "27/27 [==============================] - 2s 77ms/step - loss: 1.3826 - acc: 0.4785 - val_loss: 1.6903 - val_acc: 0.3985\n",
      "\n",
      "Epoch 00028: val_loss did not improve from 1.61407\n",
      "Epoch 29/10000\n",
      "27/27 [==============================] - 2s 75ms/step - loss: 1.3900 - acc: 0.4860 - val_loss: 1.6852 - val_acc: 0.3784\n",
      "\n",
      "Epoch 00029: val_loss did not improve from 1.61407\n",
      "Epoch 30/10000\n",
      "27/27 [==============================] - 2s 75ms/step - loss: 1.3596 - acc: 0.5091 - val_loss: 1.8085 - val_acc: 0.3534\n",
      "\n",
      "Epoch 00030: val_loss did not improve from 1.61407\n",
      "Epoch 31/10000\n",
      "27/27 [==============================] - 2s 76ms/step - loss: 1.4060 - acc: 0.4760 - val_loss: 1.7450 - val_acc: 0.3534\n",
      "\n",
      "Epoch 00031: val_loss did not improve from 1.61407\n",
      "Epoch 32/10000\n",
      "27/27 [==============================] - 2s 78ms/step - loss: 1.3419 - acc: 0.5136 - val_loss: 1.7150 - val_acc: 0.3798\n",
      "\n",
      "Epoch 00032: val_loss did not improve from 1.61407\n",
      "Epoch 33/10000\n",
      "27/27 [==============================] - 2s 76ms/step - loss: 1.4066 - acc: 0.4806 - val_loss: 1.7514 - val_acc: 0.3509\n",
      "\n",
      "Epoch 00033: val_loss did not improve from 1.61407\n",
      "Epoch 34/10000\n",
      "27/27 [==============================] - 2s 76ms/step - loss: 1.3124 - acc: 0.5330 - val_loss: 1.6854 - val_acc: 0.3960\n",
      "\n",
      "Epoch 00034: val_loss did not improve from 1.61407\n",
      "\n",
      "Epoch 00034: ReduceLROnPlateau reducing learning rate to 1.0000000474974514e-05.\n",
      "Epoch 35/10000\n",
      "27/27 [==============================] - 2s 77ms/step - loss: 1.3846 - acc: 0.5104 - val_loss: 1.6816 - val_acc: 0.4110\n",
      "\n",
      "Epoch 00035: val_loss did not improve from 1.61407\n",
      "Epoch 36/10000\n",
      "27/27 [==============================] - 2s 76ms/step - loss: 1.4038 - acc: 0.4724 - val_loss: 1.7434 - val_acc: 0.3709\n",
      "\n",
      "Epoch 00036: val_loss did not improve from 1.61407\n",
      "Epoch 37/10000\n",
      "27/27 [==============================] - 2s 77ms/step - loss: 1.3566 - acc: 0.5093 - val_loss: 1.7446 - val_acc: 0.3684\n",
      "\n",
      "Epoch 00037: val_loss did not improve from 1.61407\n",
      "Epoch 38/10000\n",
      "27/27 [==============================] - 2s 77ms/step - loss: 1.3562 - acc: 0.5110 - val_loss: 1.6996 - val_acc: 0.3784\n",
      "\n",
      "Epoch 00038: val_loss did not improve from 1.61407\n",
      "Epoch 39/10000\n",
      "27/27 [==============================] - 2s 77ms/step - loss: 1.4413 - acc: 0.4766 - val_loss: 1.7486 - val_acc: 0.3910\n",
      "\n",
      "Epoch 00039: val_loss did not improve from 1.61407\n",
      "Epoch 40/10000\n",
      "27/27 [==============================] - 2s 77ms/step - loss: 1.3715 - acc: 0.4894 - val_loss: 1.7388 - val_acc: 0.3559\n",
      "\n",
      "Epoch 00040: val_loss did not improve from 1.61407\n",
      "Epoch 41/10000\n",
      "27/27 [==============================] - 2s 77ms/step - loss: 1.3675 - acc: 0.5012 - val_loss: 1.7367 - val_acc: 0.3684\n",
      "\n",
      "Epoch 00041: val_loss did not improve from 1.61407\n",
      "Epoch 42/10000\n",
      "27/27 [==============================] - 2s 77ms/step - loss: 1.3822 - acc: 0.5014 - val_loss: 1.7552 - val_acc: 0.3860\n",
      "\n",
      "Epoch 00042: val_loss did not improve from 1.61407\n",
      "Epoch 43/10000\n",
      "27/27 [==============================] - 2s 77ms/step - loss: 1.3984 - acc: 0.4683 - val_loss: 1.6786 - val_acc: 0.3684\n",
      "\n",
      "Epoch 00043: val_loss did not improve from 1.61407\n",
      "Epoch 44/10000\n",
      "27/27 [==============================] - 2s 75ms/step - loss: 1.3561 - acc: 0.5087 - val_loss: 1.6922 - val_acc: 0.3860\n",
      "\n",
      "Epoch 00044: val_loss did not improve from 1.61407\n",
      "Epoch 45/10000\n",
      "27/27 [==============================] - 2s 76ms/step - loss: 1.4152 - acc: 0.4905 - val_loss: 1.7464 - val_acc: 0.3784\n",
      "\n",
      "Epoch 00045: val_loss did not improve from 1.61407\n",
      "Epoch 46/10000\n",
      "27/27 [==============================] - 2s 78ms/step - loss: 1.3485 - acc: 0.5005 - val_loss: 1.7634 - val_acc: 0.3630\n",
      "\n",
      "Epoch 00046: val_loss did not improve from 1.61407\n",
      "\n",
      "Epoch 00046: ReduceLROnPlateau reducing learning rate to 1.0000000656873453e-06.\n",
      "Epoch 47/10000\n",
      "27/27 [==============================] - 2s 77ms/step - loss: 1.4029 - acc: 0.4831 - val_loss: 1.7042 - val_acc: 0.3709\n",
      "\n",
      "Epoch 00047: val_loss did not improve from 1.61407\n",
      "Epoch 48/10000\n",
      "27/27 [==============================] - 2s 77ms/step - loss: 1.3841 - acc: 0.4942 - val_loss: 1.7257 - val_acc: 0.4185\n",
      "\n",
      "Epoch 00048: val_loss did not improve from 1.61407\n",
      "Epoch 49/10000\n",
      "27/27 [==============================] - 2s 76ms/step - loss: 1.3841 - acc: 0.4897 - val_loss: 1.7284 - val_acc: 0.3559\n",
      "\n",
      "Epoch 00049: val_loss did not improve from 1.61407\n",
      "Epoch 50/10000\n",
      "27/27 [==============================] - 2s 77ms/step - loss: 1.3832 - acc: 0.4898 - val_loss: 1.7065 - val_acc: 0.3910\n",
      "\n",
      "Epoch 00050: val_loss did not improve from 1.61407\n",
      "Epoch 51/10000\n",
      "27/27 [==============================] - 2s 77ms/step - loss: 1.3836 - acc: 0.4845 - val_loss: 1.7590 - val_acc: 0.3835\n",
      "\n",
      "Epoch 00051: val_loss did not improve from 1.61407\n",
      "Epoch 52/10000\n",
      "27/27 [==============================] - 2s 77ms/step - loss: 1.4001 - acc: 0.4999 - val_loss: 1.7915 - val_acc: 0.3634\n",
      "\n",
      "Epoch 00052: val_loss did not improve from 1.61407\n",
      "Epoch 53/10000\n",
      "27/27 [==============================] - 2s 77ms/step - loss: 1.3852 - acc: 0.4945 - val_loss: 1.6898 - val_acc: 0.3935\n",
      "\n",
      "Epoch 00053: val_loss did not improve from 1.61407\n",
      "Epoch 54/10000\n",
      "27/27 [==============================] - 2s 77ms/step - loss: 1.3848 - acc: 0.4956 - val_loss: 1.7684 - val_acc: 0.3709\n",
      "\n",
      "Epoch 00054: val_loss did not improve from 1.61407\n",
      "Epoch 55/10000\n",
      "27/27 [==============================] - 2s 76ms/step - loss: 1.3504 - acc: 0.5044 - val_loss: 1.6870 - val_acc: 0.3835\n",
      "\n",
      "Epoch 00055: val_loss did not improve from 1.61407\n",
      "Epoch 56/10000\n",
      "27/27 [==============================] - 2s 75ms/step - loss: 1.3542 - acc: 0.5003 - val_loss: 1.7207 - val_acc: 0.3784\n",
      "\n",
      "Epoch 00056: val_loss did not improve from 1.61407\n",
      "Epoch 57/10000\n",
      "27/27 [==============================] - 2s 76ms/step - loss: 1.3953 - acc: 0.4993 - val_loss: 1.7832 - val_acc: 0.3634\n",
      "\n",
      "Epoch 00057: val_loss did not improve from 1.61407\n",
      "Epoch 58/10000\n",
      "27/27 [==============================] - 2s 74ms/step - loss: 1.3705 - acc: 0.5084 - val_loss: 1.6985 - val_acc: 0.3910\n",
      "\n",
      "Epoch 00058: val_loss did not improve from 1.61407\n",
      "\n",
      "Epoch 00058: ReduceLROnPlateau reducing learning rate to 1.0000001111620805e-07.\n",
      "Epoch 59/10000\n",
      "27/27 [==============================] - 2s 75ms/step - loss: 1.3743 - acc: 0.4781 - val_loss: 1.7345 - val_acc: 0.3860\n",
      "\n",
      "Epoch 00059: val_loss did not improve from 1.61407\n",
      "Epoch 60/10000\n",
      "27/27 [==============================] - 2s 78ms/step - loss: 1.3790 - acc: 0.5009 - val_loss: 1.7385 - val_acc: 0.3726\n",
      "\n",
      "Epoch 00060: val_loss did not improve from 1.61407\n",
      "Epoch 61/10000\n",
      "27/27 [==============================] - 2s 77ms/step - loss: 1.3980 - acc: 0.5006 - val_loss: 1.7236 - val_acc: 0.3659\n",
      "\n",
      "Epoch 00061: val_loss did not improve from 1.61407\n",
      "Epoch 62/10000\n",
      "27/27 [==============================] - 2s 76ms/step - loss: 1.3548 - acc: 0.5105 - val_loss: 1.6856 - val_acc: 0.3634\n",
      "\n",
      "Epoch 00062: val_loss did not improve from 1.61407\n",
      "Epoch 63/10000\n",
      "27/27 [==============================] - 2s 75ms/step - loss: 1.3827 - acc: 0.4898 - val_loss: 1.7437 - val_acc: 0.3860\n",
      "\n",
      "Epoch 00063: val_loss did not improve from 1.61407\n",
      "Epoch 64/10000\n",
      "27/27 [==============================] - 2s 75ms/step - loss: 1.3602 - acc: 0.5059 - val_loss: 1.7487 - val_acc: 0.3659\n",
      "\n",
      "Epoch 00064: val_loss did not improve from 1.61407\n",
      "Epoch 65/10000\n",
      "27/27 [==============================] - 2s 76ms/step - loss: 1.3809 - acc: 0.4894 - val_loss: 1.6369 - val_acc: 0.3985\n",
      "\n",
      "Epoch 00065: val_loss did not improve from 1.61407\n",
      "Epoch 66/10000\n",
      "27/27 [==============================] - 2s 77ms/step - loss: 1.3718 - acc: 0.5005 - val_loss: 1.7091 - val_acc: 0.3960\n",
      "\n",
      "Epoch 00066: val_loss did not improve from 1.61407\n",
      "Epoch 67/10000\n",
      "27/27 [==============================] - 2s 76ms/step - loss: 1.3589 - acc: 0.5115 - val_loss: 1.7492 - val_acc: 0.3459\n",
      "\n",
      "Epoch 00067: val_loss did not improve from 1.61407\n",
      "Epoch 68/10000\n",
      "27/27 [==============================] - 2s 77ms/step - loss: 1.3657 - acc: 0.4988 - val_loss: 1.7310 - val_acc: 0.3609\n",
      "\n",
      "Epoch 00068: val_loss did not improve from 1.61407\n",
      "Epoch 69/10000\n",
      "27/27 [==============================] - 2s 77ms/step - loss: 1.3901 - acc: 0.4929 - val_loss: 1.7241 - val_acc: 0.3935\n",
      "\n",
      "Epoch 00069: val_loss did not improve from 1.61407\n",
      "Epoch 70/10000\n",
      "27/27 [==============================] - 2s 77ms/step - loss: 1.3944 - acc: 0.4877 - val_loss: 1.7006 - val_acc: 0.3684\n",
      "\n",
      "Epoch 00070: val_loss did not improve from 1.61407\n",
      "\n",
      "Epoch 00070: ReduceLROnPlateau reducing learning rate to 1.000000082740371e-08.\n",
      "Epoch 71/10000\n",
      "27/27 [==============================] - 2s 74ms/step - loss: 1.3334 - acc: 0.5202 - val_loss: 1.8007 - val_acc: 0.3509\n",
      "\n",
      "Epoch 00071: val_loss did not improve from 1.61407\n",
      "Epoch 72/10000\n",
      "27/27 [==============================] - 2s 73ms/step - loss: 1.3947 - acc: 0.4860 - val_loss: 1.6663 - val_acc: 0.3885\n",
      "\n",
      "Epoch 00072: val_loss did not improve from 1.61407\n",
      "149.46879768371582\n"
     ]
    }
   ],
   "source": [
    "import time\n",
    "start = time. time()\n",
    "\n",
    "\n",
    "new_model.fit_generator( \n",
    "    train_generator,\n",
    "    steps_per_epoch = train_generator.samples // BAT_SIZE,\n",
    "    validation_data = validation_generator, \n",
    "    validation_steps = validation_generator.samples // BAT_SIZE,\n",
    "    epochs=NB_EPOCHS, verbose=1, callbacks=callbacks)\n",
    "\n",
    "\n",
    "end = time. time()\n",
    "print(end - start)"
   ]
  },
  {
   "cell_type": "code",
   "execution_count": null,
   "metadata": {},
   "outputs": [],
   "source": [
    "Epoch 00179: val_loss did not improve from 1.61407\n",
    "Epoch 180/10000\n",
    "27/27 [==============================] - 2s 76ms/step - loss: 1.3928 - acc: 0.4879 - val_loss: 1.7044 - val_acc: 0.3985\n",
    "\n",
    "Epoch 00180: val_loss did not improve from 1.61407\n",
    "374.157114982605\n",
    "\n",
    "\n",
    "Epoch 00071: val_loss did not improve from 1.61407\n",
    "Epoch 72/10000\n",
    "27/27 [==============================] - 2s 73ms/step - loss: 1.3947 - acc: 0.4860 - val_loss: 1.6663 - val_acc: 0.3885\n",
    "\n",
    "Epoch 00072: val_loss did not improve from 1.61407\n",
    "149.46879768371582"
   ]
  }
 ],
 "metadata": {
  "kernelspec": {
   "display_name": "Python 3",
   "language": "python",
   "name": "python3"
  },
  "language_info": {
   "codemirror_mode": {
    "name": "ipython",
    "version": 3
   },
   "file_extension": ".py",
   "mimetype": "text/x-python",
   "name": "python",
   "nbconvert_exporter": "python",
   "pygments_lexer": "ipython3",
   "version": "3.5.2"
  }
 },
 "nbformat": 4,
 "nbformat_minor": 2
}
